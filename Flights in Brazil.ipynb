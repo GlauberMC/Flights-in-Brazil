{
 "cells": [
  {
   "cell_type": "markdown",
   "id": "b34a4b1f",
   "metadata": {},
   "source": [
    "# Analysis Report I -- General information"
   ]
  },
  {
   "cell_type": "markdown",
   "id": "ed8e4077",
   "metadata": {},
   "source": [
    "## Import libraries "
   ]
  },
  {
   "cell_type": "code",
   "execution_count": 148,
   "id": "56c0804b",
   "metadata": {},
   "outputs": [],
   "source": [
    "import pandas as pd\n",
    "\n",
    "import matplotlib.pyplot as plt\n",
    "\n",
    "import seaborn as sns"
   ]
  },
  {
   "cell_type": "markdown",
   "id": "3056a992",
   "metadata": {},
   "source": [
    "## Importing the Database "
   ]
  },
  {
   "cell_type": "code",
   "execution_count": 87,
   "id": "6f53ed0c",
   "metadata": {},
   "outputs": [
    {
     "name": "stderr",
     "output_type": "stream",
     "text": [
      "/opt/Anaconda/lib/python3.8/site-packages/IPython/core/interactiveshell.py:3165: DtypeWarning: Columns (2,6,7,11) have mixed types.Specify dtype option on import or set low_memory=False.\n",
      "  has_raised = await self.run_ast_nodes(code_ast.body, cell_name,\n"
     ]
    }
   ],
   "source": [
    "data = pd.read_csv('raw_2021.csv', sep=',')"
   ]
  },
  {
   "cell_type": "code",
   "execution_count": 88,
   "id": "105683a9",
   "metadata": {},
   "outputs": [],
   "source": [
    "data['real_arr'] = pd.to_datetime(data['real_arr'], format='%Y-%m-%d %H:%M:%S')\n",
    "data['scheduled_arr'] = pd.to_datetime(data['scheduled_arr'], format='%Y-%m-%d %H:%M:%S')\n",
    "data['real_arr']\n",
    "data['real_arr'].dt.day_name()\n",
    "data['day_of_week'] = data['real_arr'].dt.day_name()"
   ]
  },
  {
   "cell_type": "markdown",
   "id": "3235fb88",
   "metadata": {},
   "source": [
    "## Reading the data "
   ]
  },
  {
   "cell_type": "code",
   "execution_count": 89,
   "id": "bad0e3c3",
   "metadata": {},
   "outputs": [
    {
     "data": {
      "text/html": [
       "<div>\n",
       "<style scoped>\n",
       "    .dataframe tbody tr th:only-of-type {\n",
       "        vertical-align: middle;\n",
       "    }\n",
       "\n",
       "    .dataframe tbody tr th {\n",
       "        vertical-align: top;\n",
       "    }\n",
       "\n",
       "    .dataframe thead th {\n",
       "        text-align: right;\n",
       "    }\n",
       "</style>\n",
       "<table border=\"1\" class=\"dataframe\">\n",
       "  <thead>\n",
       "    <tr style=\"text-align: right;\">\n",
       "      <th></th>\n",
       "      <th>company</th>\n",
       "      <th>flight</th>\n",
       "      <th>auth_code</th>\n",
       "      <th>line_type</th>\n",
       "      <th>origin</th>\n",
       "      <th>destination</th>\n",
       "      <th>scheduled_dep</th>\n",
       "      <th>real_dep</th>\n",
       "      <th>scheduled_arr</th>\n",
       "      <th>real_arr</th>\n",
       "      <th>situation</th>\n",
       "      <th>jus_code</th>\n",
       "      <th>day_of_week</th>\n",
       "    </tr>\n",
       "  </thead>\n",
       "  <tbody>\n",
       "    <tr>\n",
       "      <th>0</th>\n",
       "      <td>AZU</td>\n",
       "      <td>2497</td>\n",
       "      <td>0</td>\n",
       "      <td>N</td>\n",
       "      <td>SBMO</td>\n",
       "      <td>SBRF</td>\n",
       "      <td>NaN</td>\n",
       "      <td>NaN</td>\n",
       "      <td>2019-06-07 21:50:00</td>\n",
       "      <td>2019-06-07 21:39:00</td>\n",
       "      <td>REALIZADO</td>\n",
       "      <td>NaN</td>\n",
       "      <td>Friday</td>\n",
       "    </tr>\n",
       "    <tr>\n",
       "      <th>1</th>\n",
       "      <td>AZU</td>\n",
       "      <td>2493</td>\n",
       "      <td>0</td>\n",
       "      <td>N</td>\n",
       "      <td>SBMK</td>\n",
       "      <td>SBCF</td>\n",
       "      <td>NaN</td>\n",
       "      <td>NaN</td>\n",
       "      <td>2019-06-07 20:30:00</td>\n",
       "      <td>2019-06-07 20:30:00</td>\n",
       "      <td>REALIZADO</td>\n",
       "      <td>NaN</td>\n",
       "      <td>Friday</td>\n",
       "    </tr>\n",
       "    <tr>\n",
       "      <th>2</th>\n",
       "      <td>AZU</td>\n",
       "      <td>2489</td>\n",
       "      <td>0</td>\n",
       "      <td>N</td>\n",
       "      <td>SBRF</td>\n",
       "      <td>SBGR</td>\n",
       "      <td>NaN</td>\n",
       "      <td>NaN</td>\n",
       "      <td>2019-06-07 23:35:00</td>\n",
       "      <td>2019-06-07 23:35:00</td>\n",
       "      <td>REALIZADO</td>\n",
       "      <td>NaN</td>\n",
       "      <td>Friday</td>\n",
       "    </tr>\n",
       "    <tr>\n",
       "      <th>3</th>\n",
       "      <td>AZU</td>\n",
       "      <td>2488</td>\n",
       "      <td>0</td>\n",
       "      <td>N</td>\n",
       "      <td>SBGR</td>\n",
       "      <td>SBRF</td>\n",
       "      <td>NaN</td>\n",
       "      <td>NaN</td>\n",
       "      <td>2019-06-07 08:20:00</td>\n",
       "      <td>2019-06-07 08:11:00</td>\n",
       "      <td>REALIZADO</td>\n",
       "      <td>NaN</td>\n",
       "      <td>Friday</td>\n",
       "    </tr>\n",
       "    <tr>\n",
       "      <th>4</th>\n",
       "      <td>AZU</td>\n",
       "      <td>2487</td>\n",
       "      <td>0</td>\n",
       "      <td>N</td>\n",
       "      <td>SBFL</td>\n",
       "      <td>SBKP</td>\n",
       "      <td>NaN</td>\n",
       "      <td>NaN</td>\n",
       "      <td>2019-06-07 17:45:00</td>\n",
       "      <td>2019-06-07 17:45:00</td>\n",
       "      <td>REALIZADO</td>\n",
       "      <td>NaN</td>\n",
       "      <td>Friday</td>\n",
       "    </tr>\n",
       "    <tr>\n",
       "      <th>...</th>\n",
       "      <td>...</td>\n",
       "      <td>...</td>\n",
       "      <td>...</td>\n",
       "      <td>...</td>\n",
       "      <td>...</td>\n",
       "      <td>...</td>\n",
       "      <td>...</td>\n",
       "      <td>...</td>\n",
       "      <td>...</td>\n",
       "      <td>...</td>\n",
       "      <td>...</td>\n",
       "      <td>...</td>\n",
       "      <td>...</td>\n",
       "    </tr>\n",
       "    <tr>\n",
       "      <th>1592596</th>\n",
       "      <td>AZU</td>\n",
       "      <td>2503</td>\n",
       "      <td>0</td>\n",
       "      <td>N</td>\n",
       "      <td>SBPL</td>\n",
       "      <td>SBKP</td>\n",
       "      <td>NaN</td>\n",
       "      <td>NaN</td>\n",
       "      <td>2019-06-07 06:35:00</td>\n",
       "      <td>2019-06-07 06:31:00</td>\n",
       "      <td>REALIZADO</td>\n",
       "      <td>NaN</td>\n",
       "      <td>Friday</td>\n",
       "    </tr>\n",
       "    <tr>\n",
       "      <th>1592597</th>\n",
       "      <td>AZU</td>\n",
       "      <td>2502</td>\n",
       "      <td>0</td>\n",
       "      <td>N</td>\n",
       "      <td>SBRF</td>\n",
       "      <td>SBSG</td>\n",
       "      <td>NaN</td>\n",
       "      <td>NaN</td>\n",
       "      <td>2019-06-07 15:25:00</td>\n",
       "      <td>2019-06-07 15:05:00</td>\n",
       "      <td>REALIZADO</td>\n",
       "      <td>HD</td>\n",
       "      <td>Friday</td>\n",
       "    </tr>\n",
       "    <tr>\n",
       "      <th>1592598</th>\n",
       "      <td>AZU</td>\n",
       "      <td>2500</td>\n",
       "      <td>0</td>\n",
       "      <td>N</td>\n",
       "      <td>SBKP</td>\n",
       "      <td>SBPL</td>\n",
       "      <td>NaN</td>\n",
       "      <td>NaN</td>\n",
       "      <td>2019-06-08 02:35:00</td>\n",
       "      <td>2019-06-08 02:18:00</td>\n",
       "      <td>REALIZADO</td>\n",
       "      <td>HD</td>\n",
       "      <td>Saturday</td>\n",
       "    </tr>\n",
       "    <tr>\n",
       "      <th>1592599</th>\n",
       "      <td>AZU</td>\n",
       "      <td>2499</td>\n",
       "      <td>0</td>\n",
       "      <td>N</td>\n",
       "      <td>SBJU</td>\n",
       "      <td>SBKP</td>\n",
       "      <td>NaN</td>\n",
       "      <td>NaN</td>\n",
       "      <td>2019-06-07 05:25:00</td>\n",
       "      <td>2019-06-07 05:09:00</td>\n",
       "      <td>REALIZADO</td>\n",
       "      <td>HD</td>\n",
       "      <td>Friday</td>\n",
       "    </tr>\n",
       "    <tr>\n",
       "      <th>1592600</th>\n",
       "      <td>AZU</td>\n",
       "      <td>2498</td>\n",
       "      <td>0</td>\n",
       "      <td>N</td>\n",
       "      <td>SBKP</td>\n",
       "      <td>SBJU</td>\n",
       "      <td>NaN</td>\n",
       "      <td>NaN</td>\n",
       "      <td>2019-06-08 01:30:00</td>\n",
       "      <td>2019-06-08 01:26:00</td>\n",
       "      <td>REALIZADO</td>\n",
       "      <td>NaN</td>\n",
       "      <td>Saturday</td>\n",
       "    </tr>\n",
       "  </tbody>\n",
       "</table>\n",
       "<p>1592601 rows × 13 columns</p>\n",
       "</div>"
      ],
      "text/plain": [
       "        company flight auth_code line_type origin destination scheduled_dep  \\\n",
       "0           AZU   2497         0         N   SBMO        SBRF           NaN   \n",
       "1           AZU   2493         0         N   SBMK        SBCF           NaN   \n",
       "2           AZU   2489         0         N   SBRF        SBGR           NaN   \n",
       "3           AZU   2488         0         N   SBGR        SBRF           NaN   \n",
       "4           AZU   2487         0         N   SBFL        SBKP           NaN   \n",
       "...         ...    ...       ...       ...    ...         ...           ...   \n",
       "1592596     AZU   2503         0         N   SBPL        SBKP           NaN   \n",
       "1592597     AZU   2502         0         N   SBRF        SBSG           NaN   \n",
       "1592598     AZU   2500         0         N   SBKP        SBPL           NaN   \n",
       "1592599     AZU   2499         0         N   SBJU        SBKP           NaN   \n",
       "1592600     AZU   2498         0         N   SBKP        SBJU           NaN   \n",
       "\n",
       "        real_dep       scheduled_arr            real_arr  situation jus_code  \\\n",
       "0            NaN 2019-06-07 21:50:00 2019-06-07 21:39:00  REALIZADO      NaN   \n",
       "1            NaN 2019-06-07 20:30:00 2019-06-07 20:30:00  REALIZADO      NaN   \n",
       "2            NaN 2019-06-07 23:35:00 2019-06-07 23:35:00  REALIZADO      NaN   \n",
       "3            NaN 2019-06-07 08:20:00 2019-06-07 08:11:00  REALIZADO      NaN   \n",
       "4            NaN 2019-06-07 17:45:00 2019-06-07 17:45:00  REALIZADO      NaN   \n",
       "...          ...                 ...                 ...        ...      ...   \n",
       "1592596      NaN 2019-06-07 06:35:00 2019-06-07 06:31:00  REALIZADO      NaN   \n",
       "1592597      NaN 2019-06-07 15:25:00 2019-06-07 15:05:00  REALIZADO       HD   \n",
       "1592598      NaN 2019-06-08 02:35:00 2019-06-08 02:18:00  REALIZADO       HD   \n",
       "1592599      NaN 2019-06-07 05:25:00 2019-06-07 05:09:00  REALIZADO       HD   \n",
       "1592600      NaN 2019-06-08 01:30:00 2019-06-08 01:26:00  REALIZADO      NaN   \n",
       "\n",
       "        day_of_week  \n",
       "0            Friday  \n",
       "1            Friday  \n",
       "2            Friday  \n",
       "3            Friday  \n",
       "4            Friday  \n",
       "...             ...  \n",
       "1592596      Friday  \n",
       "1592597      Friday  \n",
       "1592598    Saturday  \n",
       "1592599      Friday  \n",
       "1592600    Saturday  \n",
       "\n",
       "[1592601 rows x 13 columns]"
      ]
     },
     "execution_count": 89,
     "metadata": {},
     "output_type": "execute_result"
    }
   ],
   "source": [
    "data"
   ]
  },
  {
   "cell_type": "markdown",
   "id": "f01e1b1b",
   "metadata": {},
   "source": [
    "## Doing exploratory analysis of the data"
   ]
  },
  {
   "cell_type": "code",
   "execution_count": 90,
   "id": "71401b0b",
   "metadata": {},
   "outputs": [
    {
     "name": "stdout",
     "output_type": "stream",
     "text": [
      "<class 'pandas.core.frame.DataFrame'>\n",
      "RangeIndex: 1592601 entries, 0 to 1592600\n",
      "Data columns (total 13 columns):\n",
      " #   Column         Non-Null Count    Dtype         \n",
      "---  ------         --------------    -----         \n",
      " 0   company        1592601 non-null  object        \n",
      " 1   flight         1592601 non-null  object        \n",
      " 2   auth_code      1591965 non-null  object        \n",
      " 3   line_type      1591076 non-null  object        \n",
      " 4   origin         1592601 non-null  object        \n",
      " 5   destination    1592601 non-null  object        \n",
      " 6   scheduled_dep  248305 non-null   object        \n",
      " 7   real_dep       236345 non-null   object        \n",
      " 8   scheduled_arr  1590127 non-null  datetime64[ns]\n",
      " 9   real_arr       1546221 non-null  datetime64[ns]\n",
      " 10  situation      1592601 non-null  object        \n",
      " 11  jus_code       407030 non-null   object        \n",
      " 12  day_of_week    1546221 non-null  object        \n",
      "dtypes: datetime64[ns](2), object(11)\n",
      "memory usage: 158.0+ MB\n"
     ]
    }
   ],
   "source": [
    "data.info()"
   ]
  },
  {
   "cell_type": "markdown",
   "id": "d7d3bc88",
   "metadata": {},
   "source": [
    "## Finding the amount of null data in auth_code "
   ]
  },
  {
   "cell_type": "code",
   "execution_count": 91,
   "id": "accff118",
   "metadata": {},
   "outputs": [
    {
     "data": {
      "text/plain": [
       "636"
      ]
     },
     "execution_count": 91,
     "metadata": {},
     "output_type": "execute_result"
    }
   ],
   "source": [
    "data[data['auth_code'].isnull()].shape[0]"
   ]
  },
  {
   "cell_type": "markdown",
   "id": "24bba9f2",
   "metadata": {},
   "source": [
    "## Filling null data in auth_code with 0 "
   ]
  },
  {
   "cell_type": "code",
   "execution_count": 92,
   "id": "55d4d0b5",
   "metadata": {},
   "outputs": [],
   "source": [
    "data = data.fillna({'auth_code': 0})"
   ]
  },
  {
   "cell_type": "markdown",
   "id": "887381f3",
   "metadata": {},
   "source": [
    "## Check the changed exploratory analysis of the data"
   ]
  },
  {
   "cell_type": "code",
   "execution_count": 93,
   "id": "791883dd",
   "metadata": {},
   "outputs": [
    {
     "name": "stdout",
     "output_type": "stream",
     "text": [
      "<class 'pandas.core.frame.DataFrame'>\n",
      "RangeIndex: 1592601 entries, 0 to 1592600\n",
      "Data columns (total 13 columns):\n",
      " #   Column         Non-Null Count    Dtype         \n",
      "---  ------         --------------    -----         \n",
      " 0   company        1592601 non-null  object        \n",
      " 1   flight         1592601 non-null  object        \n",
      " 2   auth_code      1592601 non-null  object        \n",
      " 3   line_type      1591076 non-null  object        \n",
      " 4   origin         1592601 non-null  object        \n",
      " 5   destination    1592601 non-null  object        \n",
      " 6   scheduled_dep  248305 non-null   object        \n",
      " 7   real_dep       236345 non-null   object        \n",
      " 8   scheduled_arr  1590127 non-null  datetime64[ns]\n",
      " 9   real_arr       1546221 non-null  datetime64[ns]\n",
      " 10  situation      1592601 non-null  object        \n",
      " 11  jus_code       407030 non-null   object        \n",
      " 12  day_of_week    1546221 non-null  object        \n",
      "dtypes: datetime64[ns](2), object(11)\n",
      "memory usage: 158.0+ MB\n"
     ]
    }
   ],
   "source": [
    "data.info()"
   ]
  },
  {
   "cell_type": "markdown",
   "id": "2fea3ee3",
   "metadata": {},
   "source": [
    "## General Information about the Database"
   ]
  },
  {
   "cell_type": "code",
   "execution_count": 94,
   "id": "23719e33",
   "metadata": {},
   "outputs": [],
   "source": [
    "data_types = pd.DataFrame(data.dtypes, columns=['Data Types'])"
   ]
  },
  {
   "cell_type": "code",
   "execution_count": 95,
   "id": "2b1540b2",
   "metadata": {},
   "outputs": [],
   "source": [
    "\n",
    "data_types.columns.name = 'Variables'"
   ]
  },
  {
   "cell_type": "code",
   "execution_count": 96,
   "id": "b3b7d896",
   "metadata": {},
   "outputs": [
    {
     "data": {
      "text/html": [
       "<div>\n",
       "<style scoped>\n",
       "    .dataframe tbody tr th:only-of-type {\n",
       "        vertical-align: middle;\n",
       "    }\n",
       "\n",
       "    .dataframe tbody tr th {\n",
       "        vertical-align: top;\n",
       "    }\n",
       "\n",
       "    .dataframe thead th {\n",
       "        text-align: right;\n",
       "    }\n",
       "</style>\n",
       "<table border=\"1\" class=\"dataframe\">\n",
       "  <thead>\n",
       "    <tr style=\"text-align: right;\">\n",
       "      <th>Variables</th>\n",
       "      <th>Data Types</th>\n",
       "    </tr>\n",
       "  </thead>\n",
       "  <tbody>\n",
       "    <tr>\n",
       "      <th>company</th>\n",
       "      <td>object</td>\n",
       "    </tr>\n",
       "    <tr>\n",
       "      <th>flight</th>\n",
       "      <td>object</td>\n",
       "    </tr>\n",
       "    <tr>\n",
       "      <th>auth_code</th>\n",
       "      <td>object</td>\n",
       "    </tr>\n",
       "    <tr>\n",
       "      <th>line_type</th>\n",
       "      <td>object</td>\n",
       "    </tr>\n",
       "    <tr>\n",
       "      <th>origin</th>\n",
       "      <td>object</td>\n",
       "    </tr>\n",
       "    <tr>\n",
       "      <th>destination</th>\n",
       "      <td>object</td>\n",
       "    </tr>\n",
       "    <tr>\n",
       "      <th>scheduled_dep</th>\n",
       "      <td>object</td>\n",
       "    </tr>\n",
       "    <tr>\n",
       "      <th>real_dep</th>\n",
       "      <td>object</td>\n",
       "    </tr>\n",
       "    <tr>\n",
       "      <th>scheduled_arr</th>\n",
       "      <td>datetime64[ns]</td>\n",
       "    </tr>\n",
       "    <tr>\n",
       "      <th>real_arr</th>\n",
       "      <td>datetime64[ns]</td>\n",
       "    </tr>\n",
       "    <tr>\n",
       "      <th>situation</th>\n",
       "      <td>object</td>\n",
       "    </tr>\n",
       "    <tr>\n",
       "      <th>jus_code</th>\n",
       "      <td>object</td>\n",
       "    </tr>\n",
       "    <tr>\n",
       "      <th>day_of_week</th>\n",
       "      <td>object</td>\n",
       "    </tr>\n",
       "  </tbody>\n",
       "</table>\n",
       "</div>"
      ],
      "text/plain": [
       "Variables          Data Types\n",
       "company                object\n",
       "flight                 object\n",
       "auth_code              object\n",
       "line_type              object\n",
       "origin                 object\n",
       "destination            object\n",
       "scheduled_dep          object\n",
       "real_dep               object\n",
       "scheduled_arr  datetime64[ns]\n",
       "real_arr       datetime64[ns]\n",
       "situation              object\n",
       "jus_code               object\n",
       "day_of_week            object"
      ]
     },
     "execution_count": 96,
     "metadata": {},
     "output_type": "execute_result"
    }
   ],
   "source": [
    "data_types"
   ]
  },
  {
   "cell_type": "markdown",
   "id": "c101b0f9",
   "metadata": {},
   "source": [
    "## Type of Line performed for each flight stage"
   ]
  },
  {
   "cell_type": "code",
   "execution_count": 97,
   "id": "caea6ff0",
   "metadata": {},
   "outputs": [
    {
     "data": {
      "text/plain": [
       "array(['N', 'I', 'C', 'G', 'L', 'R', 'X', 'E', 'H', nan], dtype=object)"
      ]
     },
     "execution_count": 97,
     "metadata": {},
     "output_type": "execute_result"
    }
   ],
   "source": [
    "data['line_type'].unique()"
   ]
  },
  {
   "cell_type": "markdown",
   "id": "3a8d8142",
   "metadata": {},
   "source": [
    "## Number of data and variables"
   ]
  },
  {
   "cell_type": "code",
   "execution_count": 98,
   "id": "a32fb0cf",
   "metadata": {},
   "outputs": [
    {
     "name": "stdout",
     "output_type": "stream",
     "text": [
      "The database has 1592601 register (flight) and 13 variables\n"
     ]
    }
   ],
   "source": [
    "print('The database has {} register (flight) and {} variables'.format(data.shape[0], data.shape[1]))"
   ]
  },
  {
   "cell_type": "markdown",
   "id": "5a1f731d",
   "metadata": {},
   "source": [
    "## Types of flights"
   ]
  },
  {
   "cell_type": "code",
   "execution_count": 99,
   "id": "ba9f514a",
   "metadata": {},
   "outputs": [
    {
     "data": {
      "text/plain": [
       "<AxesSubplot:>"
      ]
     },
     "execution_count": 99,
     "metadata": {},
     "output_type": "execute_result"
    },
    {
     "data": {
      "image/png": "[encoded data removed]",
      "text/plain": [
       "<Figure size 432x288 with 1 Axes>"
      ]
     },
     "metadata": {
      "needs_background": "light"
     },
     "output_type": "display_data"
    }
   ],
   "source": [
    "data['line_type'].hist()"
   ]
  },
  {
   "cell_type": "code",
   "execution_count": null,
   "id": "f96d4696",
   "metadata": {},
   "outputs": [],
   "source": []
  },
  {
   "cell_type": "markdown",
   "id": "1ad80394",
   "metadata": {},
   "source": [
    "# Analysis Report Part II -- Clean data"
   ]
  },
  {
   "cell_type": "markdown",
   "id": "c3892717",
   "metadata": {},
   "source": [
    "## Airlines"
   ]
  },
  {
   "cell_type": "code",
   "execution_count": 100,
   "id": "08d3020a",
   "metadata": {},
   "outputs": [],
   "source": [
    "all_airlines_flight = pd.DataFrame(data[['company','flight','origin','destination','scheduled_arr','real_arr','situation','day_of_week']])"
   ]
  },
  {
   "cell_type": "markdown",
   "id": "41d2477c",
   "metadata": {},
   "source": [
    "## Number of flights"
   ]
  },
  {
   "cell_type": "code",
   "execution_count": 101,
   "id": "fc6bd999",
   "metadata": {},
   "outputs": [
    {
     "data": {
      "text/plain": [
       "1592601"
      ]
     },
     "execution_count": 101,
     "metadata": {},
     "output_type": "execute_result"
    }
   ],
   "source": [
    "all_airlines_flight.shape[0]"
   ]
  },
  {
   "cell_type": "code",
   "execution_count": 102,
   "id": "9a95fba8",
   "metadata": {},
   "outputs": [
    {
     "data": {
      "text/html": [
       "<div>\n",
       "<style scoped>\n",
       "    .dataframe tbody tr th:only-of-type {\n",
       "        vertical-align: middle;\n",
       "    }\n",
       "\n",
       "    .dataframe tbody tr th {\n",
       "        vertical-align: top;\n",
       "    }\n",
       "\n",
       "    .dataframe thead th {\n",
       "        text-align: right;\n",
       "    }\n",
       "</style>\n",
       "<table border=\"1\" class=\"dataframe\">\n",
       "  <thead>\n",
       "    <tr style=\"text-align: right;\">\n",
       "      <th></th>\n",
       "      <th>company</th>\n",
       "      <th>flight</th>\n",
       "      <th>origin</th>\n",
       "      <th>destination</th>\n",
       "      <th>scheduled_arr</th>\n",
       "      <th>real_arr</th>\n",
       "      <th>situation</th>\n",
       "      <th>day_of_week</th>\n",
       "    </tr>\n",
       "  </thead>\n",
       "  <tbody>\n",
       "    <tr>\n",
       "      <th>0</th>\n",
       "      <td>AZU</td>\n",
       "      <td>2497</td>\n",
       "      <td>SBMO</td>\n",
       "      <td>SBRF</td>\n",
       "      <td>2019-06-07 21:50:00</td>\n",
       "      <td>2019-06-07 21:39:00</td>\n",
       "      <td>REALIZADO</td>\n",
       "      <td>Friday</td>\n",
       "    </tr>\n",
       "    <tr>\n",
       "      <th>1</th>\n",
       "      <td>AZU</td>\n",
       "      <td>2493</td>\n",
       "      <td>SBMK</td>\n",
       "      <td>SBCF</td>\n",
       "      <td>2019-06-07 20:30:00</td>\n",
       "      <td>2019-06-07 20:30:00</td>\n",
       "      <td>REALIZADO</td>\n",
       "      <td>Friday</td>\n",
       "    </tr>\n",
       "    <tr>\n",
       "      <th>2</th>\n",
       "      <td>AZU</td>\n",
       "      <td>2489</td>\n",
       "      <td>SBRF</td>\n",
       "      <td>SBGR</td>\n",
       "      <td>2019-06-07 23:35:00</td>\n",
       "      <td>2019-06-07 23:35:00</td>\n",
       "      <td>REALIZADO</td>\n",
       "      <td>Friday</td>\n",
       "    </tr>\n",
       "    <tr>\n",
       "      <th>3</th>\n",
       "      <td>AZU</td>\n",
       "      <td>2488</td>\n",
       "      <td>SBGR</td>\n",
       "      <td>SBRF</td>\n",
       "      <td>2019-06-07 08:20:00</td>\n",
       "      <td>2019-06-07 08:11:00</td>\n",
       "      <td>REALIZADO</td>\n",
       "      <td>Friday</td>\n",
       "    </tr>\n",
       "    <tr>\n",
       "      <th>4</th>\n",
       "      <td>AZU</td>\n",
       "      <td>2487</td>\n",
       "      <td>SBFL</td>\n",
       "      <td>SBKP</td>\n",
       "      <td>2019-06-07 17:45:00</td>\n",
       "      <td>2019-06-07 17:45:00</td>\n",
       "      <td>REALIZADO</td>\n",
       "      <td>Friday</td>\n",
       "    </tr>\n",
       "  </tbody>\n",
       "</table>\n",
       "</div>"
      ],
      "text/plain": [
       "  company flight origin destination       scheduled_arr            real_arr  \\\n",
       "0     AZU   2497   SBMO        SBRF 2019-06-07 21:50:00 2019-06-07 21:39:00   \n",
       "1     AZU   2493   SBMK        SBCF 2019-06-07 20:30:00 2019-06-07 20:30:00   \n",
       "2     AZU   2489   SBRF        SBGR 2019-06-07 23:35:00 2019-06-07 23:35:00   \n",
       "3     AZU   2488   SBGR        SBRF 2019-06-07 08:20:00 2019-06-07 08:11:00   \n",
       "4     AZU   2487   SBFL        SBKP 2019-06-07 17:45:00 2019-06-07 17:45:00   \n",
       "\n",
       "   situation day_of_week  \n",
       "0  REALIZADO      Friday  \n",
       "1  REALIZADO      Friday  \n",
       "2  REALIZADO      Friday  \n",
       "3  REALIZADO      Friday  \n",
       "4  REALIZADO      Friday  "
      ]
     },
     "execution_count": 102,
     "metadata": {},
     "output_type": "execute_result"
    }
   ],
   "source": [
    "all_airlines_flight.head()"
   ]
  },
  {
   "cell_type": "code",
   "execution_count": 103,
   "id": "aa285ecc",
   "metadata": {},
   "outputs": [],
   "source": [
    "airlines = data.company"
   ]
  },
  {
   "cell_type": "markdown",
   "id": "fc70a5f5",
   "metadata": {},
   "source": [
    "## Remove airlines duplicate values"
   ]
  },
  {
   "cell_type": "code",
   "execution_count": 104,
   "id": "e98cd1d2",
   "metadata": {},
   "outputs": [],
   "source": [
    "airlines.drop_duplicates(inplace = True)"
   ]
  },
  {
   "cell_type": "markdown",
   "id": "9dba3171",
   "metadata": {},
   "source": [
    "## Number of airlines flew in Brazil in 2020"
   ]
  },
  {
   "cell_type": "code",
   "execution_count": 105,
   "id": "aa37d3c1",
   "metadata": {},
   "outputs": [
    {
     "name": "stdout",
     "output_type": "stream",
     "text": [
      "The number of airlines flew in Brazil in 2020: 131 flights.\n"
     ]
    }
   ],
   "source": [
    "print('The number of airlines flew in Brazil in 2020: {} flights.'.format(airlines.shape[0]))"
   ]
  },
  {
   "cell_type": "markdown",
   "id": "569232b6",
   "metadata": {},
   "source": [
    "## Airlines Code"
   ]
  },
  {
   "cell_type": "code",
   "execution_count": 106,
   "id": "715f952d",
   "metadata": {},
   "outputs": [],
   "source": [
    "airlines = pd.DataFrame(airlines)"
   ]
  },
  {
   "cell_type": "code",
   "execution_count": 107,
   "id": "02dcd1c2",
   "metadata": {},
   "outputs": [
    {
     "data": {
      "text/plain": [
       "Int64Index([      0,      18,      19,      27,      33,      37,      40,\n",
       "                 69,     234,     235,\n",
       "            ...\n",
       "            1087609, 1087628, 1087648, 1123359, 1123406, 1123434, 1127884,\n",
       "            1165813, 1165824, 1166435],\n",
       "           dtype='int64', length=131)"
      ]
     },
     "execution_count": 107,
     "metadata": {},
     "output_type": "execute_result"
    }
   ],
   "source": [
    "airlines.index"
   ]
  },
  {
   "cell_type": "code",
   "execution_count": 108,
   "id": "3100d055",
   "metadata": {},
   "outputs": [],
   "source": [
    "airlines = data.company"
   ]
  },
  {
   "cell_type": "code",
   "execution_count": 109,
   "id": "bd1dad06",
   "metadata": {},
   "outputs": [
    {
     "data": {
      "text/plain": [
       "array(['AZU', 'UAE', 'TTL', 'TPU', 'THY', 'TCV', 'TAP', 'TAM', 'QTR',\n",
       "       'PTB', 'PAM', 'NRS', 'MWM', 'MPH', 'LTG', 'LPE', 'LCO', 'LAP',\n",
       "       'LAN', 'UPS', 'UAL', 'LAE', 'KLM', 'KAL', 'IBE', 'GTI', 'GLO',\n",
       "       'SWR', 'SKU', 'SAA', 'RAM', 'GEC', 'FDX', 'ETH', 'EDW', 'DTA',\n",
       "       'DSM', 'DLH', 'DAL', 'CMP', 'CLX', 'CCA', 'BOV', 'BAW', 'AZA',\n",
       "       'AVA', 'AUT', 'ARG', 'AMX', 'AFR', 'AEA', 'ACA', 'AAL', 'AAF',\n",
       "       'TPA', 'CFG', 'AZP', 'OWT', 'SLM', 'ROI', 'FBZ', 'AZN', 'SUL',\n",
       "       'JAT', 'SID', 'AUZ', 'ELY', 'OMI', 'RIM', 'CQB', 'EVE', 'LYC',\n",
       "       'MMZ', 'CKS', 'EAL', 'SAS', 'ADB', 'TVS', 'SWQ', 'GIA', 'MSI',\n",
       "       'RPB', 'ECO', 'EDR', 'MAA', 'AWC', 'KMF', 'NOS', 'VIV', 'CSB',\n",
       "       'OLS', 'VVC', 'TIW', 'WAL', 'SVA', 'ACL', 'ARL', 'ARE', 'PLM',\n",
       "       'AMP', 'AZV', 'JAV', 'TVR', 'SKX', 'VPE', 'PVV', 'AJB', 'ETD',\n",
       "       'RZO', 'VDA', 'SOO', 'ETR', 'AXY', 'GCA', 'UKL', 'LAU', 'TGY',\n",
       "       'PVG', 'JAF', 'TFL', 'ATG', 'KRE', 'RUC', 'QCL', 'LNE', 'PUE',\n",
       "       'JES', 'IPM', 'CVK', 'BOL', 'ONE'], dtype=object)"
      ]
     },
     "execution_count": 109,
     "metadata": {},
     "output_type": "execute_result"
    }
   ],
   "source": [
    "airlines.unique()"
   ]
  },
  {
   "cell_type": "code",
   "execution_count": 110,
   "id": "d5bd7479",
   "metadata": {},
   "outputs": [
    {
     "name": "stdout",
     "output_type": "stream",
     "text": [
      "The number of flew in Brazil in 2020: 1592601 .\n"
     ]
    }
   ],
   "source": [
    "print('The number of flew in Brazil in 2020: {} .'.format(airlines.shape[0]))"
   ]
  },
  {
   "cell_type": "code",
   "execution_count": null,
   "id": "8492b2da",
   "metadata": {},
   "outputs": [],
   "source": []
  },
  {
   "cell_type": "markdown",
   "id": "dc6ce748",
   "metadata": {},
   "source": [
    "## Analysis Report Part III -- Selecting only brazilians airlines"
   ]
  },
  {
   "cell_type": "markdown",
   "id": "fd37a31e",
   "metadata": {},
   "source": [
    "## Filtering the brazilian airlines that flew in Brazil"
   ]
  },
  {
   "cell_type": "code",
   "execution_count": 111,
   "id": "79b5d99a",
   "metadata": {},
   "outputs": [],
   "source": [
    "brazilian_airlines = ['AZU', 'GLO', 'TAM', 'PTB']"
   ]
  },
  {
   "cell_type": "code",
   "execution_count": 112,
   "id": "3c23a671",
   "metadata": {},
   "outputs": [],
   "source": [
    "selection = data['company'].isin(brazilian_airlines)"
   ]
  },
  {
   "cell_type": "code",
   "execution_count": 113,
   "id": "67176aff",
   "metadata": {},
   "outputs": [],
   "source": [
    "data_brazilian_airlines = data[selection]"
   ]
  },
  {
   "cell_type": "markdown",
   "id": "ea778cc0",
   "metadata": {},
   "source": [
    "## Brazilian airlines"
   ]
  },
  {
   "cell_type": "code",
   "execution_count": 114,
   "id": "25249f47",
   "metadata": {},
   "outputs": [
    {
     "data": {
      "text/plain": [
       "array(['AZU', 'TAM', 'PTB', 'GLO'], dtype=object)"
      ]
     },
     "execution_count": 114,
     "metadata": {},
     "output_type": "execute_result"
    }
   ],
   "source": [
    "data_brazilian_airlines['company'].unique()"
   ]
  },
  {
   "cell_type": "code",
   "execution_count": 115,
   "id": "e590d0ce",
   "metadata": {},
   "outputs": [],
   "source": [
    "domestic_flights = data_brazilian_airlines[data_brazilian_airlines['line_type'] == 'N']"
   ]
  },
  {
   "cell_type": "code",
   "execution_count": 116,
   "id": "8464b0cd",
   "metadata": {},
   "outputs": [
    {
     "data": {
      "text/html": [
       "<div>\n",
       "<style scoped>\n",
       "    .dataframe tbody tr th:only-of-type {\n",
       "        vertical-align: middle;\n",
       "    }\n",
       "\n",
       "    .dataframe tbody tr th {\n",
       "        vertical-align: top;\n",
       "    }\n",
       "\n",
       "    .dataframe thead th {\n",
       "        text-align: right;\n",
       "    }\n",
       "</style>\n",
       "<table border=\"1\" class=\"dataframe\">\n",
       "  <thead>\n",
       "    <tr style=\"text-align: right;\">\n",
       "      <th></th>\n",
       "      <th>company</th>\n",
       "      <th>flight</th>\n",
       "      <th>auth_code</th>\n",
       "      <th>line_type</th>\n",
       "      <th>origin</th>\n",
       "      <th>destination</th>\n",
       "      <th>scheduled_dep</th>\n",
       "      <th>real_dep</th>\n",
       "      <th>scheduled_arr</th>\n",
       "      <th>real_arr</th>\n",
       "      <th>situation</th>\n",
       "      <th>jus_code</th>\n",
       "      <th>day_of_week</th>\n",
       "    </tr>\n",
       "  </thead>\n",
       "  <tbody>\n",
       "    <tr>\n",
       "      <th>0</th>\n",
       "      <td>AZU</td>\n",
       "      <td>2497</td>\n",
       "      <td>0</td>\n",
       "      <td>N</td>\n",
       "      <td>SBMO</td>\n",
       "      <td>SBRF</td>\n",
       "      <td>NaN</td>\n",
       "      <td>NaN</td>\n",
       "      <td>2019-06-07 21:50:00</td>\n",
       "      <td>2019-06-07 21:39:00</td>\n",
       "      <td>REALIZADO</td>\n",
       "      <td>NaN</td>\n",
       "      <td>Friday</td>\n",
       "    </tr>\n",
       "    <tr>\n",
       "      <th>1</th>\n",
       "      <td>AZU</td>\n",
       "      <td>2493</td>\n",
       "      <td>0</td>\n",
       "      <td>N</td>\n",
       "      <td>SBMK</td>\n",
       "      <td>SBCF</td>\n",
       "      <td>NaN</td>\n",
       "      <td>NaN</td>\n",
       "      <td>2019-06-07 20:30:00</td>\n",
       "      <td>2019-06-07 20:30:00</td>\n",
       "      <td>REALIZADO</td>\n",
       "      <td>NaN</td>\n",
       "      <td>Friday</td>\n",
       "    </tr>\n",
       "    <tr>\n",
       "      <th>2</th>\n",
       "      <td>AZU</td>\n",
       "      <td>2489</td>\n",
       "      <td>0</td>\n",
       "      <td>N</td>\n",
       "      <td>SBRF</td>\n",
       "      <td>SBGR</td>\n",
       "      <td>NaN</td>\n",
       "      <td>NaN</td>\n",
       "      <td>2019-06-07 23:35:00</td>\n",
       "      <td>2019-06-07 23:35:00</td>\n",
       "      <td>REALIZADO</td>\n",
       "      <td>NaN</td>\n",
       "      <td>Friday</td>\n",
       "    </tr>\n",
       "    <tr>\n",
       "      <th>3</th>\n",
       "      <td>AZU</td>\n",
       "      <td>2488</td>\n",
       "      <td>0</td>\n",
       "      <td>N</td>\n",
       "      <td>SBGR</td>\n",
       "      <td>SBRF</td>\n",
       "      <td>NaN</td>\n",
       "      <td>NaN</td>\n",
       "      <td>2019-06-07 08:20:00</td>\n",
       "      <td>2019-06-07 08:11:00</td>\n",
       "      <td>REALIZADO</td>\n",
       "      <td>NaN</td>\n",
       "      <td>Friday</td>\n",
       "    </tr>\n",
       "    <tr>\n",
       "      <th>4</th>\n",
       "      <td>AZU</td>\n",
       "      <td>2487</td>\n",
       "      <td>0</td>\n",
       "      <td>N</td>\n",
       "      <td>SBFL</td>\n",
       "      <td>SBKP</td>\n",
       "      <td>NaN</td>\n",
       "      <td>NaN</td>\n",
       "      <td>2019-06-07 17:45:00</td>\n",
       "      <td>2019-06-07 17:45:00</td>\n",
       "      <td>REALIZADO</td>\n",
       "      <td>NaN</td>\n",
       "      <td>Friday</td>\n",
       "    </tr>\n",
       "  </tbody>\n",
       "</table>\n",
       "</div>"
      ],
      "text/plain": [
       "  company flight auth_code line_type origin destination scheduled_dep  \\\n",
       "0     AZU   2497         0         N   SBMO        SBRF           NaN   \n",
       "1     AZU   2493         0         N   SBMK        SBCF           NaN   \n",
       "2     AZU   2489         0         N   SBRF        SBGR           NaN   \n",
       "3     AZU   2488         0         N   SBGR        SBRF           NaN   \n",
       "4     AZU   2487         0         N   SBFL        SBKP           NaN   \n",
       "\n",
       "  real_dep       scheduled_arr            real_arr  situation jus_code  \\\n",
       "0      NaN 2019-06-07 21:50:00 2019-06-07 21:39:00  REALIZADO      NaN   \n",
       "1      NaN 2019-06-07 20:30:00 2019-06-07 20:30:00  REALIZADO      NaN   \n",
       "2      NaN 2019-06-07 23:35:00 2019-06-07 23:35:00  REALIZADO      NaN   \n",
       "3      NaN 2019-06-07 08:20:00 2019-06-07 08:11:00  REALIZADO      NaN   \n",
       "4      NaN 2019-06-07 17:45:00 2019-06-07 17:45:00  REALIZADO      NaN   \n",
       "\n",
       "  day_of_week  \n",
       "0      Friday  \n",
       "1      Friday  \n",
       "2      Friday  \n",
       "3      Friday  \n",
       "4      Friday  "
      ]
     },
     "execution_count": 116,
     "metadata": {},
     "output_type": "execute_result"
    }
   ],
   "source": [
    "domestic_flights.head()"
   ]
  },
  {
   "cell_type": "code",
   "execution_count": 117,
   "id": "6edf13a4",
   "metadata": {},
   "outputs": [
    {
     "data": {
      "text/plain": [
       "array(['AZU', 'TAM', 'PTB', 'GLO'], dtype=object)"
      ]
     },
     "execution_count": 117,
     "metadata": {},
     "output_type": "execute_result"
    }
   ],
   "source": [
    "domestic_flights['company'].unique()"
   ]
  },
  {
   "cell_type": "markdown",
   "id": "d4e1a212",
   "metadata": {},
   "source": [
    "## Checking line types "
   ]
  },
  {
   "cell_type": "code",
   "execution_count": 118,
   "id": "4dbe6bd3",
   "metadata": {},
   "outputs": [
    {
     "data": {
      "text/plain": [
       "['N']"
      ]
     },
     "execution_count": 118,
     "metadata": {},
     "output_type": "execute_result"
    }
   ],
   "source": [
    "list(domestic_flights['line_type'].drop_duplicates())"
   ]
  },
  {
   "cell_type": "code",
   "execution_count": null,
   "id": "8de35d6f",
   "metadata": {},
   "outputs": [],
   "source": []
  },
  {
   "cell_type": "markdown",
   "id": "96572908",
   "metadata": {},
   "source": [
    "## Analysis Report Part IV -- Flights confirmed and canceled"
   ]
  },
  {
   "cell_type": "code",
   "execution_count": 119,
   "id": "604fa0d1",
   "metadata": {},
   "outputs": [],
   "source": [
    "domestic_flights = pd.DataFrame(domestic_flights[['company','flight','origin','destination','scheduled_arr','real_arr','situation','day_of_week']])"
   ]
  },
  {
   "cell_type": "code",
   "execution_count": 120,
   "id": "36c430bd",
   "metadata": {},
   "outputs": [
    {
     "data": {
      "text/html": [
       "<div>\n",
       "<style scoped>\n",
       "    .dataframe tbody tr th:only-of-type {\n",
       "        vertical-align: middle;\n",
       "    }\n",
       "\n",
       "    .dataframe tbody tr th {\n",
       "        vertical-align: top;\n",
       "    }\n",
       "\n",
       "    .dataframe thead th {\n",
       "        text-align: right;\n",
       "    }\n",
       "</style>\n",
       "<table border=\"1\" class=\"dataframe\">\n",
       "  <thead>\n",
       "    <tr style=\"text-align: right;\">\n",
       "      <th></th>\n",
       "      <th>company</th>\n",
       "      <th>flight</th>\n",
       "      <th>origin</th>\n",
       "      <th>destination</th>\n",
       "      <th>scheduled_arr</th>\n",
       "      <th>real_arr</th>\n",
       "      <th>situation</th>\n",
       "      <th>day_of_week</th>\n",
       "    </tr>\n",
       "  </thead>\n",
       "  <tbody>\n",
       "    <tr>\n",
       "      <th>0</th>\n",
       "      <td>AZU</td>\n",
       "      <td>2497</td>\n",
       "      <td>SBMO</td>\n",
       "      <td>SBRF</td>\n",
       "      <td>2019-06-07 21:50:00</td>\n",
       "      <td>2019-06-07 21:39:00</td>\n",
       "      <td>REALIZADO</td>\n",
       "      <td>Friday</td>\n",
       "    </tr>\n",
       "    <tr>\n",
       "      <th>1</th>\n",
       "      <td>AZU</td>\n",
       "      <td>2493</td>\n",
       "      <td>SBMK</td>\n",
       "      <td>SBCF</td>\n",
       "      <td>2019-06-07 20:30:00</td>\n",
       "      <td>2019-06-07 20:30:00</td>\n",
       "      <td>REALIZADO</td>\n",
       "      <td>Friday</td>\n",
       "    </tr>\n",
       "    <tr>\n",
       "      <th>2</th>\n",
       "      <td>AZU</td>\n",
       "      <td>2489</td>\n",
       "      <td>SBRF</td>\n",
       "      <td>SBGR</td>\n",
       "      <td>2019-06-07 23:35:00</td>\n",
       "      <td>2019-06-07 23:35:00</td>\n",
       "      <td>REALIZADO</td>\n",
       "      <td>Friday</td>\n",
       "    </tr>\n",
       "    <tr>\n",
       "      <th>3</th>\n",
       "      <td>AZU</td>\n",
       "      <td>2488</td>\n",
       "      <td>SBGR</td>\n",
       "      <td>SBRF</td>\n",
       "      <td>2019-06-07 08:20:00</td>\n",
       "      <td>2019-06-07 08:11:00</td>\n",
       "      <td>REALIZADO</td>\n",
       "      <td>Friday</td>\n",
       "    </tr>\n",
       "    <tr>\n",
       "      <th>4</th>\n",
       "      <td>AZU</td>\n",
       "      <td>2487</td>\n",
       "      <td>SBFL</td>\n",
       "      <td>SBKP</td>\n",
       "      <td>2019-06-07 17:45:00</td>\n",
       "      <td>2019-06-07 17:45:00</td>\n",
       "      <td>REALIZADO</td>\n",
       "      <td>Friday</td>\n",
       "    </tr>\n",
       "    <tr>\n",
       "      <th>5</th>\n",
       "      <td>AZU</td>\n",
       "      <td>2485</td>\n",
       "      <td>SBPK</td>\n",
       "      <td>SBPA</td>\n",
       "      <td>2019-06-07 13:55:00</td>\n",
       "      <td>2019-06-07 13:55:00</td>\n",
       "      <td>REALIZADO</td>\n",
       "      <td>Friday</td>\n",
       "    </tr>\n",
       "    <tr>\n",
       "      <th>6</th>\n",
       "      <td>AZU</td>\n",
       "      <td>2483</td>\n",
       "      <td>SBCF</td>\n",
       "      <td>SBKP</td>\n",
       "      <td>2019-06-07 13:45:00</td>\n",
       "      <td>2019-06-07 13:40:00</td>\n",
       "      <td>REALIZADO</td>\n",
       "      <td>Friday</td>\n",
       "    </tr>\n",
       "    <tr>\n",
       "      <th>7</th>\n",
       "      <td>AZU</td>\n",
       "      <td>2482</td>\n",
       "      <td>SBKP</td>\n",
       "      <td>SBCF</td>\n",
       "      <td>2019-06-07 20:10:00</td>\n",
       "      <td>2019-06-07 20:10:00</td>\n",
       "      <td>REALIZADO</td>\n",
       "      <td>Friday</td>\n",
       "    </tr>\n",
       "    <tr>\n",
       "      <th>8</th>\n",
       "      <td>AZU</td>\n",
       "      <td>2480</td>\n",
       "      <td>SBGR</td>\n",
       "      <td>SBCY</td>\n",
       "      <td>2019-06-07 15:05:00</td>\n",
       "      <td>2019-06-07 15:03:00</td>\n",
       "      <td>REALIZADO</td>\n",
       "      <td>Friday</td>\n",
       "    </tr>\n",
       "    <tr>\n",
       "      <th>9</th>\n",
       "      <td>AZU</td>\n",
       "      <td>2479</td>\n",
       "      <td>SBLO</td>\n",
       "      <td>SBCT</td>\n",
       "      <td>2019-06-07 20:35:00</td>\n",
       "      <td>2019-06-07 20:29:00</td>\n",
       "      <td>REALIZADO</td>\n",
       "      <td>Friday</td>\n",
       "    </tr>\n",
       "  </tbody>\n",
       "</table>\n",
       "</div>"
      ],
      "text/plain": [
       "  company flight origin destination       scheduled_arr            real_arr  \\\n",
       "0     AZU   2497   SBMO        SBRF 2019-06-07 21:50:00 2019-06-07 21:39:00   \n",
       "1     AZU   2493   SBMK        SBCF 2019-06-07 20:30:00 2019-06-07 20:30:00   \n",
       "2     AZU   2489   SBRF        SBGR 2019-06-07 23:35:00 2019-06-07 23:35:00   \n",
       "3     AZU   2488   SBGR        SBRF 2019-06-07 08:20:00 2019-06-07 08:11:00   \n",
       "4     AZU   2487   SBFL        SBKP 2019-06-07 17:45:00 2019-06-07 17:45:00   \n",
       "5     AZU   2485   SBPK        SBPA 2019-06-07 13:55:00 2019-06-07 13:55:00   \n",
       "6     AZU   2483   SBCF        SBKP 2019-06-07 13:45:00 2019-06-07 13:40:00   \n",
       "7     AZU   2482   SBKP        SBCF 2019-06-07 20:10:00 2019-06-07 20:10:00   \n",
       "8     AZU   2480   SBGR        SBCY 2019-06-07 15:05:00 2019-06-07 15:03:00   \n",
       "9     AZU   2479   SBLO        SBCT 2019-06-07 20:35:00 2019-06-07 20:29:00   \n",
       "\n",
       "   situation day_of_week  \n",
       "0  REALIZADO      Friday  \n",
       "1  REALIZADO      Friday  \n",
       "2  REALIZADO      Friday  \n",
       "3  REALIZADO      Friday  \n",
       "4  REALIZADO      Friday  \n",
       "5  REALIZADO      Friday  \n",
       "6  REALIZADO      Friday  \n",
       "7  REALIZADO      Friday  \n",
       "8  REALIZADO      Friday  \n",
       "9  REALIZADO      Friday  "
      ]
     },
     "execution_count": 120,
     "metadata": {},
     "output_type": "execute_result"
    }
   ],
   "source": [
    "domestic_flights.head(10)"
   ]
  },
  {
   "cell_type": "markdown",
   "id": "cf5c5736",
   "metadata": {},
   "source": [
    "\n",
    "## Checking flights situation"
   ]
  },
  {
   "cell_type": "code",
   "execution_count": 121,
   "id": "0c8381a2",
   "metadata": {},
   "outputs": [],
   "source": [
    "selecao = (domestic_flights['situation'] == 'REALIZADO') | (domestic_flights['situation'] == 'CANCELADO')\n"
   ]
  },
  {
   "cell_type": "code",
   "execution_count": 122,
   "id": "1124609d",
   "metadata": {},
   "outputs": [],
   "source": [
    "\n",
    "domestic_flights = domestic_flights[selecao]"
   ]
  },
  {
   "cell_type": "code",
   "execution_count": 123,
   "id": "59a6ae6d",
   "metadata": {},
   "outputs": [
    {
     "data": {
      "text/html": [
       "<div>\n",
       "<style scoped>\n",
       "    .dataframe tbody tr th:only-of-type {\n",
       "        vertical-align: middle;\n",
       "    }\n",
       "\n",
       "    .dataframe tbody tr th {\n",
       "        vertical-align: top;\n",
       "    }\n",
       "\n",
       "    .dataframe thead th {\n",
       "        text-align: right;\n",
       "    }\n",
       "</style>\n",
       "<table border=\"1\" class=\"dataframe\">\n",
       "  <thead>\n",
       "    <tr style=\"text-align: right;\">\n",
       "      <th></th>\n",
       "      <th>company</th>\n",
       "      <th>flight</th>\n",
       "      <th>origin</th>\n",
       "      <th>destination</th>\n",
       "      <th>scheduled_arr</th>\n",
       "      <th>real_arr</th>\n",
       "      <th>situation</th>\n",
       "      <th>day_of_week</th>\n",
       "    </tr>\n",
       "  </thead>\n",
       "  <tbody>\n",
       "    <tr>\n",
       "      <th>0</th>\n",
       "      <td>AZU</td>\n",
       "      <td>2497</td>\n",
       "      <td>SBMO</td>\n",
       "      <td>SBRF</td>\n",
       "      <td>2019-06-07 21:50:00</td>\n",
       "      <td>2019-06-07 21:39:00</td>\n",
       "      <td>REALIZADO</td>\n",
       "      <td>Friday</td>\n",
       "    </tr>\n",
       "    <tr>\n",
       "      <th>1</th>\n",
       "      <td>AZU</td>\n",
       "      <td>2493</td>\n",
       "      <td>SBMK</td>\n",
       "      <td>SBCF</td>\n",
       "      <td>2019-06-07 20:30:00</td>\n",
       "      <td>2019-06-07 20:30:00</td>\n",
       "      <td>REALIZADO</td>\n",
       "      <td>Friday</td>\n",
       "    </tr>\n",
       "    <tr>\n",
       "      <th>2</th>\n",
       "      <td>AZU</td>\n",
       "      <td>2489</td>\n",
       "      <td>SBRF</td>\n",
       "      <td>SBGR</td>\n",
       "      <td>2019-06-07 23:35:00</td>\n",
       "      <td>2019-06-07 23:35:00</td>\n",
       "      <td>REALIZADO</td>\n",
       "      <td>Friday</td>\n",
       "    </tr>\n",
       "    <tr>\n",
       "      <th>3</th>\n",
       "      <td>AZU</td>\n",
       "      <td>2488</td>\n",
       "      <td>SBGR</td>\n",
       "      <td>SBRF</td>\n",
       "      <td>2019-06-07 08:20:00</td>\n",
       "      <td>2019-06-07 08:11:00</td>\n",
       "      <td>REALIZADO</td>\n",
       "      <td>Friday</td>\n",
       "    </tr>\n",
       "    <tr>\n",
       "      <th>4</th>\n",
       "      <td>AZU</td>\n",
       "      <td>2487</td>\n",
       "      <td>SBFL</td>\n",
       "      <td>SBKP</td>\n",
       "      <td>2019-06-07 17:45:00</td>\n",
       "      <td>2019-06-07 17:45:00</td>\n",
       "      <td>REALIZADO</td>\n",
       "      <td>Friday</td>\n",
       "    </tr>\n",
       "  </tbody>\n",
       "</table>\n",
       "</div>"
      ],
      "text/plain": [
       "  company flight origin destination       scheduled_arr            real_arr  \\\n",
       "0     AZU   2497   SBMO        SBRF 2019-06-07 21:50:00 2019-06-07 21:39:00   \n",
       "1     AZU   2493   SBMK        SBCF 2019-06-07 20:30:00 2019-06-07 20:30:00   \n",
       "2     AZU   2489   SBRF        SBGR 2019-06-07 23:35:00 2019-06-07 23:35:00   \n",
       "3     AZU   2488   SBGR        SBRF 2019-06-07 08:20:00 2019-06-07 08:11:00   \n",
       "4     AZU   2487   SBFL        SBKP 2019-06-07 17:45:00 2019-06-07 17:45:00   \n",
       "\n",
       "   situation day_of_week  \n",
       "0  REALIZADO      Friday  \n",
       "1  REALIZADO      Friday  \n",
       "2  REALIZADO      Friday  \n",
       "3  REALIZADO      Friday  \n",
       "4  REALIZADO      Friday  "
      ]
     },
     "execution_count": 123,
     "metadata": {},
     "output_type": "execute_result"
    }
   ],
   "source": [
    "domestic_flights.head()"
   ]
  },
  {
   "cell_type": "code",
   "execution_count": 124,
   "id": "cd86404e",
   "metadata": {},
   "outputs": [
    {
     "data": {
      "text/plain": [
       "<AxesSubplot:>"
      ]
     },
     "execution_count": 124,
     "metadata": {},
     "output_type": "execute_result"
    },
    {
     "data": {
      "image/png": "[encoded data removed]",
      "text/plain": [
       "<Figure size 432x288 with 1 Axes>"
      ]
     },
     "metadata": {
      "needs_background": "light"
     },
     "output_type": "display_data"
    }
   ],
   "source": [
    "domestic_flights['situation'].hist()"
   ]
  },
  {
   "cell_type": "code",
   "execution_count": 125,
   "id": "5e70c992",
   "metadata": {},
   "outputs": [
    {
     "data": {
      "text/plain": [
       "array(['AZU', 'TAM', 'PTB', 'GLO'], dtype=object)"
      ]
     },
     "execution_count": 125,
     "metadata": {},
     "output_type": "execute_result"
    }
   ],
   "source": [
    "domestic_flights['company'].unique()"
   ]
  },
  {
   "cell_type": "markdown",
   "id": "6f9ef1ac",
   "metadata": {},
   "source": [
    "## Number of flights confirmed"
   ]
  },
  {
   "cell_type": "code",
   "execution_count": 126,
   "id": "f3da12cd",
   "metadata": {},
   "outputs": [
    {
     "data": {
      "text/plain": [
       "1245367"
      ]
     },
     "execution_count": 126,
     "metadata": {},
     "output_type": "execute_result"
    }
   ],
   "source": [
    "n_confirmed = domestic_flights[domestic_flights['situation'] == 'REALIZADO'].shape[0]\n",
    "n_confirmed"
   ]
  },
  {
   "cell_type": "markdown",
   "id": "2db2c54f",
   "metadata": {},
   "source": [
    "## Number of flights canceled"
   ]
  },
  {
   "cell_type": "code",
   "execution_count": 127,
   "id": "5ad34e49",
   "metadata": {},
   "outputs": [
    {
     "data": {
      "text/plain": [
       "20558"
      ]
     },
     "execution_count": 127,
     "metadata": {},
     "output_type": "execute_result"
    }
   ],
   "source": [
    "n_canceled = domestic_flights[domestic_flights['situation'] == 'CANCELADO'].shape[0]\n",
    "n_canceled"
   ]
  },
  {
   "cell_type": "code",
   "execution_count": null,
   "id": "415ea52e",
   "metadata": {},
   "outputs": [],
   "source": []
  },
  {
   "cell_type": "markdown",
   "id": "b46ae1d3",
   "metadata": {},
   "source": [
    "## Analysis Report Part V -- Flights confirmed and canceled by airlines"
   ]
  },
  {
   "cell_type": "markdown",
   "id": "61c57559",
   "metadata": {},
   "source": [
    "## Number of flights confirmed by airline"
   ]
  },
  {
   "cell_type": "code",
   "execution_count": 128,
   "id": "f9b3d35f",
   "metadata": {},
   "outputs": [
    {
     "data": {
      "text/html": [
       "<div>\n",
       "<style scoped>\n",
       "    .dataframe tbody tr th:only-of-type {\n",
       "        vertical-align: middle;\n",
       "    }\n",
       "\n",
       "    .dataframe tbody tr th {\n",
       "        vertical-align: top;\n",
       "    }\n",
       "\n",
       "    .dataframe thead th {\n",
       "        text-align: right;\n",
       "    }\n",
       "</style>\n",
       "<table border=\"1\" class=\"dataframe\">\n",
       "  <thead>\n",
       "    <tr style=\"text-align: right;\">\n",
       "      <th></th>\n",
       "      <th>company</th>\n",
       "      <th>situation</th>\n",
       "    </tr>\n",
       "  </thead>\n",
       "  <tbody>\n",
       "    <tr>\n",
       "      <th>0</th>\n",
       "      <td>AZU</td>\n",
       "      <td>REALIZADO</td>\n",
       "    </tr>\n",
       "    <tr>\n",
       "      <th>1</th>\n",
       "      <td>AZU</td>\n",
       "      <td>REALIZADO</td>\n",
       "    </tr>\n",
       "    <tr>\n",
       "      <th>2</th>\n",
       "      <td>AZU</td>\n",
       "      <td>REALIZADO</td>\n",
       "    </tr>\n",
       "    <tr>\n",
       "      <th>3</th>\n",
       "      <td>AZU</td>\n",
       "      <td>REALIZADO</td>\n",
       "    </tr>\n",
       "    <tr>\n",
       "      <th>4</th>\n",
       "      <td>AZU</td>\n",
       "      <td>REALIZADO</td>\n",
       "    </tr>\n",
       "    <tr>\n",
       "      <th>...</th>\n",
       "      <td>...</td>\n",
       "      <td>...</td>\n",
       "    </tr>\n",
       "    <tr>\n",
       "      <th>1592596</th>\n",
       "      <td>AZU</td>\n",
       "      <td>REALIZADO</td>\n",
       "    </tr>\n",
       "    <tr>\n",
       "      <th>1592597</th>\n",
       "      <td>AZU</td>\n",
       "      <td>REALIZADO</td>\n",
       "    </tr>\n",
       "    <tr>\n",
       "      <th>1592598</th>\n",
       "      <td>AZU</td>\n",
       "      <td>REALIZADO</td>\n",
       "    </tr>\n",
       "    <tr>\n",
       "      <th>1592599</th>\n",
       "      <td>AZU</td>\n",
       "      <td>REALIZADO</td>\n",
       "    </tr>\n",
       "    <tr>\n",
       "      <th>1592600</th>\n",
       "      <td>AZU</td>\n",
       "      <td>REALIZADO</td>\n",
       "    </tr>\n",
       "  </tbody>\n",
       "</table>\n",
       "<p>1245367 rows × 2 columns</p>\n",
       "</div>"
      ],
      "text/plain": [
       "        company  situation\n",
       "0           AZU  REALIZADO\n",
       "1           AZU  REALIZADO\n",
       "2           AZU  REALIZADO\n",
       "3           AZU  REALIZADO\n",
       "4           AZU  REALIZADO\n",
       "...         ...        ...\n",
       "1592596     AZU  REALIZADO\n",
       "1592597     AZU  REALIZADO\n",
       "1592598     AZU  REALIZADO\n",
       "1592599     AZU  REALIZADO\n",
       "1592600     AZU  REALIZADO\n",
       "\n",
       "[1245367 rows x 2 columns]"
      ]
     },
     "execution_count": 128,
     "metadata": {},
     "output_type": "execute_result"
    }
   ],
   "source": [
    "n_confirmed = domestic_flights[domestic_flights['situation'] == 'REALIZADO']\n",
    "flight_confirmed = pd.DataFrame(n_confirmed[['company','situation']])\n",
    "flight_confirmed"
   ]
  },
  {
   "cell_type": "code",
   "execution_count": 129,
   "id": "c88786c3",
   "metadata": {},
   "outputs": [],
   "source": [
    "flight_confirmed = flight_confirmed.groupby('company').count()"
   ]
  },
  {
   "cell_type": "code",
   "execution_count": 130,
   "id": "8f6a724e",
   "metadata": {},
   "outputs": [
    {
     "data": {
      "image/png": "[encoded data removed]",
      "text/plain": [
       "<Figure size 432x288 with 1 Axes>"
      ]
     },
     "metadata": {
      "needs_background": "light"
     },
     "output_type": "display_data"
    }
   ],
   "source": [
    "flight_confirmed.plot(kind='bar')\n",
    "plt.show()"
   ]
  },
  {
   "cell_type": "markdown",
   "id": "ce7b1b89",
   "metadata": {},
   "source": [
    "## Number of flights canceled by airline"
   ]
  },
  {
   "cell_type": "code",
   "execution_count": 131,
   "id": "5f223fa4",
   "metadata": {},
   "outputs": [],
   "source": [
    "n_canceled = domestic_flights[domestic_flights['situation'] == 'CANCELADO']\n",
    "flight_candeled = pd.DataFrame(n_canceled[['company','situation']])"
   ]
  },
  {
   "cell_type": "code",
   "execution_count": 132,
   "id": "61406384",
   "metadata": {},
   "outputs": [],
   "source": [
    "flight_candeled = flight_candeled.groupby('company').count()"
   ]
  },
  {
   "cell_type": "code",
   "execution_count": 133,
   "id": "c68e4dfa",
   "metadata": {},
   "outputs": [
    {
     "data": {
      "image/png": "[encoded data removed]",
      "text/plain": [
       "<Figure size 432x288 with 1 Axes>"
      ]
     },
     "metadata": {
      "needs_background": "light"
     },
     "output_type": "display_data"
    }
   ],
   "source": [
    "flight_candeled.plot(kind='bar')\n",
    "plt.show()"
   ]
  },
  {
   "cell_type": "code",
   "execution_count": null,
   "id": "10cf693d",
   "metadata": {},
   "outputs": [],
   "source": []
  },
  {
   "cell_type": "code",
   "execution_count": null,
   "id": "843975dc",
   "metadata": {},
   "outputs": [],
   "source": []
  },
  {
   "cell_type": "markdown",
   "id": "67824250",
   "metadata": {},
   "source": [
    "## Analysis Report Part V"
   ]
  },
  {
   "cell_type": "code",
   "execution_count": 134,
   "id": "04d216ed",
   "metadata": {},
   "outputs": [
    {
     "name": "stdout",
     "output_type": "stream",
     "text": [
      "<class 'pandas.core.frame.DataFrame'>\n",
      "Int64Index: 1265925 entries, 0 to 1592600\n",
      "Data columns (total 8 columns):\n",
      " #   Column         Non-Null Count    Dtype         \n",
      "---  ------         --------------    -----         \n",
      " 0   company        1265925 non-null  object        \n",
      " 1   flight         1265925 non-null  object        \n",
      " 2   origin         1265925 non-null  object        \n",
      " 3   destination    1265925 non-null  object        \n",
      " 4   scheduled_arr  1265786 non-null  datetime64[ns]\n",
      " 5   real_arr       1243089 non-null  datetime64[ns]\n",
      " 6   situation      1265925 non-null  object        \n",
      " 7   day_of_week    1243089 non-null  object        \n",
      "dtypes: datetime64[ns](2), object(6)\n",
      "memory usage: 86.9+ MB\n"
     ]
    }
   ],
   "source": [
    "domestic_flights.info()"
   ]
  },
  {
   "cell_type": "code",
   "execution_count": 135,
   "id": "82ca4c75",
   "metadata": {},
   "outputs": [
    {
     "data": {
      "text/html": [
       "<div>\n",
       "<style scoped>\n",
       "    .dataframe tbody tr th:only-of-type {\n",
       "        vertical-align: middle;\n",
       "    }\n",
       "\n",
       "    .dataframe tbody tr th {\n",
       "        vertical-align: top;\n",
       "    }\n",
       "\n",
       "    .dataframe thead th {\n",
       "        text-align: right;\n",
       "    }\n",
       "</style>\n",
       "<table border=\"1\" class=\"dataframe\">\n",
       "  <thead>\n",
       "    <tr style=\"text-align: right;\">\n",
       "      <th></th>\n",
       "      <th>company</th>\n",
       "      <th>flight</th>\n",
       "      <th>origin</th>\n",
       "      <th>destination</th>\n",
       "      <th>scheduled_arr</th>\n",
       "      <th>real_arr</th>\n",
       "      <th>situation</th>\n",
       "      <th>day_of_week</th>\n",
       "    </tr>\n",
       "  </thead>\n",
       "  <tbody>\n",
       "    <tr>\n",
       "      <th>0</th>\n",
       "      <td>AZU</td>\n",
       "      <td>2497</td>\n",
       "      <td>SBMO</td>\n",
       "      <td>SBRF</td>\n",
       "      <td>2019-06-07 21:50:00</td>\n",
       "      <td>2019-06-07 21:39:00</td>\n",
       "      <td>REALIZADO</td>\n",
       "      <td>Friday</td>\n",
       "    </tr>\n",
       "    <tr>\n",
       "      <th>1</th>\n",
       "      <td>AZU</td>\n",
       "      <td>2493</td>\n",
       "      <td>SBMK</td>\n",
       "      <td>SBCF</td>\n",
       "      <td>2019-06-07 20:30:00</td>\n",
       "      <td>2019-06-07 20:30:00</td>\n",
       "      <td>REALIZADO</td>\n",
       "      <td>Friday</td>\n",
       "    </tr>\n",
       "    <tr>\n",
       "      <th>2</th>\n",
       "      <td>AZU</td>\n",
       "      <td>2489</td>\n",
       "      <td>SBRF</td>\n",
       "      <td>SBGR</td>\n",
       "      <td>2019-06-07 23:35:00</td>\n",
       "      <td>2019-06-07 23:35:00</td>\n",
       "      <td>REALIZADO</td>\n",
       "      <td>Friday</td>\n",
       "    </tr>\n",
       "    <tr>\n",
       "      <th>3</th>\n",
       "      <td>AZU</td>\n",
       "      <td>2488</td>\n",
       "      <td>SBGR</td>\n",
       "      <td>SBRF</td>\n",
       "      <td>2019-06-07 08:20:00</td>\n",
       "      <td>2019-06-07 08:11:00</td>\n",
       "      <td>REALIZADO</td>\n",
       "      <td>Friday</td>\n",
       "    </tr>\n",
       "    <tr>\n",
       "      <th>4</th>\n",
       "      <td>AZU</td>\n",
       "      <td>2487</td>\n",
       "      <td>SBFL</td>\n",
       "      <td>SBKP</td>\n",
       "      <td>2019-06-07 17:45:00</td>\n",
       "      <td>2019-06-07 17:45:00</td>\n",
       "      <td>REALIZADO</td>\n",
       "      <td>Friday</td>\n",
       "    </tr>\n",
       "    <tr>\n",
       "      <th>...</th>\n",
       "      <td>...</td>\n",
       "      <td>...</td>\n",
       "      <td>...</td>\n",
       "      <td>...</td>\n",
       "      <td>...</td>\n",
       "      <td>...</td>\n",
       "      <td>...</td>\n",
       "      <td>...</td>\n",
       "    </tr>\n",
       "    <tr>\n",
       "      <th>1592596</th>\n",
       "      <td>AZU</td>\n",
       "      <td>2503</td>\n",
       "      <td>SBPL</td>\n",
       "      <td>SBKP</td>\n",
       "      <td>2019-06-07 06:35:00</td>\n",
       "      <td>2019-06-07 06:31:00</td>\n",
       "      <td>REALIZADO</td>\n",
       "      <td>Friday</td>\n",
       "    </tr>\n",
       "    <tr>\n",
       "      <th>1592597</th>\n",
       "      <td>AZU</td>\n",
       "      <td>2502</td>\n",
       "      <td>SBRF</td>\n",
       "      <td>SBSG</td>\n",
       "      <td>2019-06-07 15:25:00</td>\n",
       "      <td>2019-06-07 15:05:00</td>\n",
       "      <td>REALIZADO</td>\n",
       "      <td>Friday</td>\n",
       "    </tr>\n",
       "    <tr>\n",
       "      <th>1592598</th>\n",
       "      <td>AZU</td>\n",
       "      <td>2500</td>\n",
       "      <td>SBKP</td>\n",
       "      <td>SBPL</td>\n",
       "      <td>2019-06-08 02:35:00</td>\n",
       "      <td>2019-06-08 02:18:00</td>\n",
       "      <td>REALIZADO</td>\n",
       "      <td>Saturday</td>\n",
       "    </tr>\n",
       "    <tr>\n",
       "      <th>1592599</th>\n",
       "      <td>AZU</td>\n",
       "      <td>2499</td>\n",
       "      <td>SBJU</td>\n",
       "      <td>SBKP</td>\n",
       "      <td>2019-06-07 05:25:00</td>\n",
       "      <td>2019-06-07 05:09:00</td>\n",
       "      <td>REALIZADO</td>\n",
       "      <td>Friday</td>\n",
       "    </tr>\n",
       "    <tr>\n",
       "      <th>1592600</th>\n",
       "      <td>AZU</td>\n",
       "      <td>2498</td>\n",
       "      <td>SBKP</td>\n",
       "      <td>SBJU</td>\n",
       "      <td>2019-06-08 01:30:00</td>\n",
       "      <td>2019-06-08 01:26:00</td>\n",
       "      <td>REALIZADO</td>\n",
       "      <td>Saturday</td>\n",
       "    </tr>\n",
       "  </tbody>\n",
       "</table>\n",
       "<p>1265925 rows × 8 columns</p>\n",
       "</div>"
      ],
      "text/plain": [
       "        company flight origin destination       scheduled_arr  \\\n",
       "0           AZU   2497   SBMO        SBRF 2019-06-07 21:50:00   \n",
       "1           AZU   2493   SBMK        SBCF 2019-06-07 20:30:00   \n",
       "2           AZU   2489   SBRF        SBGR 2019-06-07 23:35:00   \n",
       "3           AZU   2488   SBGR        SBRF 2019-06-07 08:20:00   \n",
       "4           AZU   2487   SBFL        SBKP 2019-06-07 17:45:00   \n",
       "...         ...    ...    ...         ...                 ...   \n",
       "1592596     AZU   2503   SBPL        SBKP 2019-06-07 06:35:00   \n",
       "1592597     AZU   2502   SBRF        SBSG 2019-06-07 15:25:00   \n",
       "1592598     AZU   2500   SBKP        SBPL 2019-06-08 02:35:00   \n",
       "1592599     AZU   2499   SBJU        SBKP 2019-06-07 05:25:00   \n",
       "1592600     AZU   2498   SBKP        SBJU 2019-06-08 01:30:00   \n",
       "\n",
       "                   real_arr  situation day_of_week  \n",
       "0       2019-06-07 21:39:00  REALIZADO      Friday  \n",
       "1       2019-06-07 20:30:00  REALIZADO      Friday  \n",
       "2       2019-06-07 23:35:00  REALIZADO      Friday  \n",
       "3       2019-06-07 08:11:00  REALIZADO      Friday  \n",
       "4       2019-06-07 17:45:00  REALIZADO      Friday  \n",
       "...                     ...        ...         ...  \n",
       "1592596 2019-06-07 06:31:00  REALIZADO      Friday  \n",
       "1592597 2019-06-07 15:05:00  REALIZADO      Friday  \n",
       "1592598 2019-06-08 02:18:00  REALIZADO    Saturday  \n",
       "1592599 2019-06-07 05:09:00  REALIZADO      Friday  \n",
       "1592600 2019-06-08 01:26:00  REALIZADO    Saturday  \n",
       "\n",
       "[1265925 rows x 8 columns]"
      ]
     },
     "execution_count": 135,
     "metadata": {},
     "output_type": "execute_result"
    }
   ],
   "source": [
    "domestic_flights"
   ]
  },
  {
   "cell_type": "code",
   "execution_count": 136,
   "id": "16bd5722",
   "metadata": {},
   "outputs": [
    {
     "data": {
      "text/plain": [
       "0          False\n",
       "1          False\n",
       "2          False\n",
       "3          False\n",
       "4          False\n",
       "           ...  \n",
       "1592596    False\n",
       "1592597    False\n",
       "1592598    False\n",
       "1592599    False\n",
       "1592600    False\n",
       "Name: real_arr, Length: 1265925, dtype: bool"
      ]
     },
     "execution_count": 136,
     "metadata": {},
     "output_type": "execute_result"
    }
   ],
   "source": [
    "domestic_flights['real_arr'].isnull()"
   ]
  },
  {
   "cell_type": "code",
   "execution_count": 137,
   "id": "30ca307c",
   "metadata": {},
   "outputs": [
    {
     "data": {
      "text/html": [
       "<div>\n",
       "<style scoped>\n",
       "    .dataframe tbody tr th:only-of-type {\n",
       "        vertical-align: middle;\n",
       "    }\n",
       "\n",
       "    .dataframe tbody tr th {\n",
       "        vertical-align: top;\n",
       "    }\n",
       "\n",
       "    .dataframe thead th {\n",
       "        text-align: right;\n",
       "    }\n",
       "</style>\n",
       "<table border=\"1\" class=\"dataframe\">\n",
       "  <thead>\n",
       "    <tr style=\"text-align: right;\">\n",
       "      <th></th>\n",
       "      <th>company</th>\n",
       "      <th>flight</th>\n",
       "      <th>origin</th>\n",
       "      <th>destination</th>\n",
       "      <th>scheduled_arr</th>\n",
       "      <th>real_arr</th>\n",
       "      <th>situation</th>\n",
       "      <th>day_of_week</th>\n",
       "    </tr>\n",
       "  </thead>\n",
       "  <tbody>\n",
       "    <tr>\n",
       "      <th>539629</th>\n",
       "      <td>TAM</td>\n",
       "      <td>9007</td>\n",
       "      <td>SBGR</td>\n",
       "      <td>SBFZ</td>\n",
       "      <td>NaT</td>\n",
       "      <td>2020-04-11 13:07:00</td>\n",
       "      <td>REALIZADO</td>\n",
       "      <td>Saturday</td>\n",
       "    </tr>\n",
       "    <tr>\n",
       "      <th>539931</th>\n",
       "      <td>TAM</td>\n",
       "      <td>9008</td>\n",
       "      <td>SBFZ</td>\n",
       "      <td>SBGR</td>\n",
       "      <td>NaT</td>\n",
       "      <td>2020-04-11 17:47:00</td>\n",
       "      <td>REALIZADO</td>\n",
       "      <td>Saturday</td>\n",
       "    </tr>\n",
       "    <tr>\n",
       "      <th>540082</th>\n",
       "      <td>TAM</td>\n",
       "      <td>9008</td>\n",
       "      <td>SBGR</td>\n",
       "      <td>SBMO</td>\n",
       "      <td>NaT</td>\n",
       "      <td>2020-04-12 16:44:00</td>\n",
       "      <td>REALIZADO</td>\n",
       "      <td>Sunday</td>\n",
       "    </tr>\n",
       "    <tr>\n",
       "      <th>541362</th>\n",
       "      <td>TAM</td>\n",
       "      <td>9008</td>\n",
       "      <td>SBMO</td>\n",
       "      <td>SBRF</td>\n",
       "      <td>NaT</td>\n",
       "      <td>2020-04-12 18:11:00</td>\n",
       "      <td>REALIZADO</td>\n",
       "      <td>Sunday</td>\n",
       "    </tr>\n",
       "    <tr>\n",
       "      <th>541815</th>\n",
       "      <td>TAM</td>\n",
       "      <td>9009</td>\n",
       "      <td>SBRF</td>\n",
       "      <td>SBGR</td>\n",
       "      <td>NaT</td>\n",
       "      <td>2020-04-12 22:21:00</td>\n",
       "      <td>REALIZADO</td>\n",
       "      <td>Sunday</td>\n",
       "    </tr>\n",
       "    <tr>\n",
       "      <th>...</th>\n",
       "      <td>...</td>\n",
       "      <td>...</td>\n",
       "      <td>...</td>\n",
       "      <td>...</td>\n",
       "      <td>...</td>\n",
       "      <td>...</td>\n",
       "      <td>...</td>\n",
       "      <td>...</td>\n",
       "    </tr>\n",
       "    <tr>\n",
       "      <th>801200</th>\n",
       "      <td>AZU</td>\n",
       "      <td>2220</td>\n",
       "      <td>SBKP</td>\n",
       "      <td>SBPA</td>\n",
       "      <td>NaT</td>\n",
       "      <td>2020-04-14 22:34:00</td>\n",
       "      <td>REALIZADO</td>\n",
       "      <td>Tuesday</td>\n",
       "    </tr>\n",
       "    <tr>\n",
       "      <th>801201</th>\n",
       "      <td>AZU</td>\n",
       "      <td>2220</td>\n",
       "      <td>SBKP</td>\n",
       "      <td>SBPA</td>\n",
       "      <td>NaT</td>\n",
       "      <td>2020-04-27 22:26:00</td>\n",
       "      <td>REALIZADO</td>\n",
       "      <td>Monday</td>\n",
       "    </tr>\n",
       "    <tr>\n",
       "      <th>801741</th>\n",
       "      <td>GLO</td>\n",
       "      <td>2014</td>\n",
       "      <td>SBGR</td>\n",
       "      <td>SBSV</td>\n",
       "      <td>NaT</td>\n",
       "      <td>2020-04-18 13:52:00</td>\n",
       "      <td>REALIZADO</td>\n",
       "      <td>Saturday</td>\n",
       "    </tr>\n",
       "    <tr>\n",
       "      <th>801742</th>\n",
       "      <td>GLO</td>\n",
       "      <td>2014</td>\n",
       "      <td>SBSV</td>\n",
       "      <td>SBAR</td>\n",
       "      <td>NaT</td>\n",
       "      <td>2020-04-18 15:34:00</td>\n",
       "      <td>REALIZADO</td>\n",
       "      <td>Saturday</td>\n",
       "    </tr>\n",
       "    <tr>\n",
       "      <th>803473</th>\n",
       "      <td>TAM</td>\n",
       "      <td>9425</td>\n",
       "      <td>SBCF</td>\n",
       "      <td>SBCT</td>\n",
       "      <td>NaT</td>\n",
       "      <td>2020-04-15 09:47:00</td>\n",
       "      <td>REALIZADO</td>\n",
       "      <td>Wednesday</td>\n",
       "    </tr>\n",
       "  </tbody>\n",
       "</table>\n",
       "<p>139 rows × 8 columns</p>\n",
       "</div>"
      ],
      "text/plain": [
       "       company flight origin destination scheduled_arr            real_arr  \\\n",
       "539629     TAM   9007   SBGR        SBFZ           NaT 2020-04-11 13:07:00   \n",
       "539931     TAM   9008   SBFZ        SBGR           NaT 2020-04-11 17:47:00   \n",
       "540082     TAM   9008   SBGR        SBMO           NaT 2020-04-12 16:44:00   \n",
       "541362     TAM   9008   SBMO        SBRF           NaT 2020-04-12 18:11:00   \n",
       "541815     TAM   9009   SBRF        SBGR           NaT 2020-04-12 22:21:00   \n",
       "...        ...    ...    ...         ...           ...                 ...   \n",
       "801200     AZU   2220   SBKP        SBPA           NaT 2020-04-14 22:34:00   \n",
       "801201     AZU   2220   SBKP        SBPA           NaT 2020-04-27 22:26:00   \n",
       "801741     GLO   2014   SBGR        SBSV           NaT 2020-04-18 13:52:00   \n",
       "801742     GLO   2014   SBSV        SBAR           NaT 2020-04-18 15:34:00   \n",
       "803473     TAM   9425   SBCF        SBCT           NaT 2020-04-15 09:47:00   \n",
       "\n",
       "        situation day_of_week  \n",
       "539629  REALIZADO    Saturday  \n",
       "539931  REALIZADO    Saturday  \n",
       "540082  REALIZADO      Sunday  \n",
       "541362  REALIZADO      Sunday  \n",
       "541815  REALIZADO      Sunday  \n",
       "...           ...         ...  \n",
       "801200  REALIZADO     Tuesday  \n",
       "801201  REALIZADO      Monday  \n",
       "801741  REALIZADO    Saturday  \n",
       "801742  REALIZADO    Saturday  \n",
       "803473  REALIZADO   Wednesday  \n",
       "\n",
       "[139 rows x 8 columns]"
      ]
     },
     "execution_count": 137,
     "metadata": {},
     "output_type": "execute_result"
    }
   ],
   "source": [
    "domestic_flights[domestic_flights['scheduled_arr'].isnull()]"
   ]
  },
  {
   "cell_type": "code",
   "execution_count": 138,
   "id": "e7334989",
   "metadata": {},
   "outputs": [
    {
     "data": {
      "text/html": [
       "<div>\n",
       "<style scoped>\n",
       "    .dataframe tbody tr th:only-of-type {\n",
       "        vertical-align: middle;\n",
       "    }\n",
       "\n",
       "    .dataframe tbody tr th {\n",
       "        vertical-align: top;\n",
       "    }\n",
       "\n",
       "    .dataframe thead th {\n",
       "        text-align: right;\n",
       "    }\n",
       "</style>\n",
       "<table border=\"1\" class=\"dataframe\">\n",
       "  <thead>\n",
       "    <tr style=\"text-align: right;\">\n",
       "      <th></th>\n",
       "      <th>company</th>\n",
       "      <th>flight</th>\n",
       "      <th>origin</th>\n",
       "      <th>destination</th>\n",
       "      <th>scheduled_arr</th>\n",
       "      <th>real_arr</th>\n",
       "      <th>situation</th>\n",
       "      <th>day_of_week</th>\n",
       "    </tr>\n",
       "  </thead>\n",
       "  <tbody>\n",
       "    <tr>\n",
       "      <th>203</th>\n",
       "      <td>TAM</td>\n",
       "      <td>4606</td>\n",
       "      <td>SBSL</td>\n",
       "      <td>SBGR</td>\n",
       "      <td>2019-06-08 20:00:00</td>\n",
       "      <td>NaT</td>\n",
       "      <td>CANCELADO</td>\n",
       "      <td>NaN</td>\n",
       "    </tr>\n",
       "    <tr>\n",
       "      <th>375</th>\n",
       "      <td>AZU</td>\n",
       "      <td>4299</td>\n",
       "      <td>SBNF</td>\n",
       "      <td>SBRJ</td>\n",
       "      <td>2019-07-07 15:45:00</td>\n",
       "      <td>NaT</td>\n",
       "      <td>CANCELADO</td>\n",
       "      <td>NaN</td>\n",
       "    </tr>\n",
       "    <tr>\n",
       "      <th>451</th>\n",
       "      <td>AZU</td>\n",
       "      <td>4298</td>\n",
       "      <td>SBRJ</td>\n",
       "      <td>SBNF</td>\n",
       "      <td>2019-07-07 13:50:00</td>\n",
       "      <td>NaT</td>\n",
       "      <td>CANCELADO</td>\n",
       "      <td>NaN</td>\n",
       "    </tr>\n",
       "    <tr>\n",
       "      <th>527</th>\n",
       "      <td>TAM</td>\n",
       "      <td>3398</td>\n",
       "      <td>SBGR</td>\n",
       "      <td>SBAR</td>\n",
       "      <td>2019-07-10 02:30:00</td>\n",
       "      <td>NaT</td>\n",
       "      <td>CANCELADO</td>\n",
       "      <td>NaN</td>\n",
       "    </tr>\n",
       "    <tr>\n",
       "      <th>667</th>\n",
       "      <td>TAM</td>\n",
       "      <td>3818</td>\n",
       "      <td>SBSP</td>\n",
       "      <td>SBBR</td>\n",
       "      <td>2019-06-08 08:30:00</td>\n",
       "      <td>NaT</td>\n",
       "      <td>CANCELADO</td>\n",
       "      <td>NaN</td>\n",
       "    </tr>\n",
       "    <tr>\n",
       "      <th>...</th>\n",
       "      <td>...</td>\n",
       "      <td>...</td>\n",
       "      <td>...</td>\n",
       "      <td>...</td>\n",
       "      <td>...</td>\n",
       "      <td>...</td>\n",
       "      <td>...</td>\n",
       "      <td>...</td>\n",
       "    </tr>\n",
       "    <tr>\n",
       "      <th>1591862</th>\n",
       "      <td>AZU</td>\n",
       "      <td>5251</td>\n",
       "      <td>SBPV</td>\n",
       "      <td>SBCF</td>\n",
       "      <td>2019-06-07 05:35:00</td>\n",
       "      <td>NaT</td>\n",
       "      <td>CANCELADO</td>\n",
       "      <td>NaN</td>\n",
       "    </tr>\n",
       "    <tr>\n",
       "      <th>1592144</th>\n",
       "      <td>AZU</td>\n",
       "      <td>4166</td>\n",
       "      <td>SBCY</td>\n",
       "      <td>SBPV</td>\n",
       "      <td>2019-06-07 15:30:00</td>\n",
       "      <td>NaT</td>\n",
       "      <td>CANCELADO</td>\n",
       "      <td>NaN</td>\n",
       "    </tr>\n",
       "    <tr>\n",
       "      <th>1592145</th>\n",
       "      <td>AZU</td>\n",
       "      <td>4166</td>\n",
       "      <td>SBKP</td>\n",
       "      <td>SBCY</td>\n",
       "      <td>2019-06-07 12:55:00</td>\n",
       "      <td>NaT</td>\n",
       "      <td>CANCELADO</td>\n",
       "      <td>NaN</td>\n",
       "    </tr>\n",
       "    <tr>\n",
       "      <th>1592150</th>\n",
       "      <td>GLO</td>\n",
       "      <td>1165</td>\n",
       "      <td>SBLO</td>\n",
       "      <td>SBSP</td>\n",
       "      <td>2019-07-04 14:40:00</td>\n",
       "      <td>NaT</td>\n",
       "      <td>CANCELADO</td>\n",
       "      <td>NaN</td>\n",
       "    </tr>\n",
       "    <tr>\n",
       "      <th>1592490</th>\n",
       "      <td>AZU</td>\n",
       "      <td>4077</td>\n",
       "      <td>SBCF</td>\n",
       "      <td>SBKP</td>\n",
       "      <td>2019-06-07 08:45:00</td>\n",
       "      <td>NaT</td>\n",
       "      <td>CANCELADO</td>\n",
       "      <td>NaN</td>\n",
       "    </tr>\n",
       "  </tbody>\n",
       "</table>\n",
       "<p>22836 rows × 8 columns</p>\n",
       "</div>"
      ],
      "text/plain": [
       "        company flight origin destination       scheduled_arr real_arr  \\\n",
       "203         TAM   4606   SBSL        SBGR 2019-06-08 20:00:00      NaT   \n",
       "375         AZU   4299   SBNF        SBRJ 2019-07-07 15:45:00      NaT   \n",
       "451         AZU   4298   SBRJ        SBNF 2019-07-07 13:50:00      NaT   \n",
       "527         TAM   3398   SBGR        SBAR 2019-07-10 02:30:00      NaT   \n",
       "667         TAM   3818   SBSP        SBBR 2019-06-08 08:30:00      NaT   \n",
       "...         ...    ...    ...         ...                 ...      ...   \n",
       "1591862     AZU   5251   SBPV        SBCF 2019-06-07 05:35:00      NaT   \n",
       "1592144     AZU   4166   SBCY        SBPV 2019-06-07 15:30:00      NaT   \n",
       "1592145     AZU   4166   SBKP        SBCY 2019-06-07 12:55:00      NaT   \n",
       "1592150     GLO   1165   SBLO        SBSP 2019-07-04 14:40:00      NaT   \n",
       "1592490     AZU   4077   SBCF        SBKP 2019-06-07 08:45:00      NaT   \n",
       "\n",
       "         situation day_of_week  \n",
       "203      CANCELADO         NaN  \n",
       "375      CANCELADO         NaN  \n",
       "451      CANCELADO         NaN  \n",
       "527      CANCELADO         NaN  \n",
       "667      CANCELADO         NaN  \n",
       "...            ...         ...  \n",
       "1591862  CANCELADO         NaN  \n",
       "1592144  CANCELADO         NaN  \n",
       "1592145  CANCELADO         NaN  \n",
       "1592150  CANCELADO         NaN  \n",
       "1592490  CANCELADO         NaN  \n",
       "\n",
       "[22836 rows x 8 columns]"
      ]
     },
     "execution_count": 138,
     "metadata": {},
     "output_type": "execute_result"
    }
   ],
   "source": [
    "domestic_flights[domestic_flights['real_arr'].isnull()]"
   ]
  },
  {
   "cell_type": "code",
   "execution_count": 139,
   "id": "d5af1cc7",
   "metadata": {},
   "outputs": [],
   "source": [
    "domestic_flights.dropna(subset=['scheduled_arr'], inplace=True)"
   ]
  },
  {
   "cell_type": "code",
   "execution_count": 140,
   "id": "4e1a90db",
   "metadata": {},
   "outputs": [],
   "source": [
    "domestic_flights.dropna(subset=['real_arr'], inplace=True)"
   ]
  },
  {
   "cell_type": "code",
   "execution_count": 141,
   "id": "8929c86e",
   "metadata": {},
   "outputs": [
    {
     "name": "stdout",
     "output_type": "stream",
     "text": [
      "<class 'pandas.core.frame.DataFrame'>\n",
      "Int64Index: 1242950 entries, 0 to 1592600\n",
      "Data columns (total 8 columns):\n",
      " #   Column         Non-Null Count    Dtype         \n",
      "---  ------         --------------    -----         \n",
      " 0   company        1242950 non-null  object        \n",
      " 1   flight         1242950 non-null  object        \n",
      " 2   origin         1242950 non-null  object        \n",
      " 3   destination    1242950 non-null  object        \n",
      " 4   scheduled_arr  1242950 non-null  datetime64[ns]\n",
      " 5   real_arr       1242950 non-null  datetime64[ns]\n",
      " 6   situation      1242950 non-null  object        \n",
      " 7   day_of_week    1242950 non-null  object        \n",
      "dtypes: datetime64[ns](2), object(6)\n",
      "memory usage: 85.3+ MB\n"
     ]
    }
   ],
   "source": [
    "domestic_flights.info()"
   ]
  },
  {
   "cell_type": "code",
   "execution_count": null,
   "id": "c620337c",
   "metadata": {},
   "outputs": [],
   "source": []
  },
  {
   "cell_type": "markdown",
   "id": "95148a1d",
   "metadata": {},
   "source": [
    "## Analysis Report Part VI"
   ]
  },
  {
   "cell_type": "code",
   "execution_count": 142,
   "id": "0b633f60",
   "metadata": {},
   "outputs": [
    {
     "data": {
      "text/html": [
       "<div>\n",
       "<style scoped>\n",
       "    .dataframe tbody tr th:only-of-type {\n",
       "        vertical-align: middle;\n",
       "    }\n",
       "\n",
       "    .dataframe tbody tr th {\n",
       "        vertical-align: top;\n",
       "    }\n",
       "\n",
       "    .dataframe thead th {\n",
       "        text-align: right;\n",
       "    }\n",
       "</style>\n",
       "<table border=\"1\" class=\"dataframe\">\n",
       "  <thead>\n",
       "    <tr style=\"text-align: right;\">\n",
       "      <th></th>\n",
       "      <th>company</th>\n",
       "      <th>flight</th>\n",
       "      <th>origin</th>\n",
       "      <th>destination</th>\n",
       "      <th>scheduled_arr</th>\n",
       "      <th>real_arr</th>\n",
       "      <th>situation</th>\n",
       "      <th>day_of_week</th>\n",
       "    </tr>\n",
       "  </thead>\n",
       "  <tbody>\n",
       "    <tr>\n",
       "      <th>0</th>\n",
       "      <td>AZU</td>\n",
       "      <td>2497</td>\n",
       "      <td>SBMO</td>\n",
       "      <td>SBRF</td>\n",
       "      <td>2019-06-07 21:50:00</td>\n",
       "      <td>2019-06-07 21:39:00</td>\n",
       "      <td>REALIZADO</td>\n",
       "      <td>Friday</td>\n",
       "    </tr>\n",
       "    <tr>\n",
       "      <th>1</th>\n",
       "      <td>AZU</td>\n",
       "      <td>2493</td>\n",
       "      <td>SBMK</td>\n",
       "      <td>SBCF</td>\n",
       "      <td>2019-06-07 20:30:00</td>\n",
       "      <td>2019-06-07 20:30:00</td>\n",
       "      <td>REALIZADO</td>\n",
       "      <td>Friday</td>\n",
       "    </tr>\n",
       "    <tr>\n",
       "      <th>2</th>\n",
       "      <td>AZU</td>\n",
       "      <td>2489</td>\n",
       "      <td>SBRF</td>\n",
       "      <td>SBGR</td>\n",
       "      <td>2019-06-07 23:35:00</td>\n",
       "      <td>2019-06-07 23:35:00</td>\n",
       "      <td>REALIZADO</td>\n",
       "      <td>Friday</td>\n",
       "    </tr>\n",
       "    <tr>\n",
       "      <th>3</th>\n",
       "      <td>AZU</td>\n",
       "      <td>2488</td>\n",
       "      <td>SBGR</td>\n",
       "      <td>SBRF</td>\n",
       "      <td>2019-06-07 08:20:00</td>\n",
       "      <td>2019-06-07 08:11:00</td>\n",
       "      <td>REALIZADO</td>\n",
       "      <td>Friday</td>\n",
       "    </tr>\n",
       "    <tr>\n",
       "      <th>4</th>\n",
       "      <td>AZU</td>\n",
       "      <td>2487</td>\n",
       "      <td>SBFL</td>\n",
       "      <td>SBKP</td>\n",
       "      <td>2019-06-07 17:45:00</td>\n",
       "      <td>2019-06-07 17:45:00</td>\n",
       "      <td>REALIZADO</td>\n",
       "      <td>Friday</td>\n",
       "    </tr>\n",
       "    <tr>\n",
       "      <th>...</th>\n",
       "      <td>...</td>\n",
       "      <td>...</td>\n",
       "      <td>...</td>\n",
       "      <td>...</td>\n",
       "      <td>...</td>\n",
       "      <td>...</td>\n",
       "      <td>...</td>\n",
       "      <td>...</td>\n",
       "    </tr>\n",
       "    <tr>\n",
       "      <th>1592596</th>\n",
       "      <td>AZU</td>\n",
       "      <td>2503</td>\n",
       "      <td>SBPL</td>\n",
       "      <td>SBKP</td>\n",
       "      <td>2019-06-07 06:35:00</td>\n",
       "      <td>2019-06-07 06:31:00</td>\n",
       "      <td>REALIZADO</td>\n",
       "      <td>Friday</td>\n",
       "    </tr>\n",
       "    <tr>\n",
       "      <th>1592597</th>\n",
       "      <td>AZU</td>\n",
       "      <td>2502</td>\n",
       "      <td>SBRF</td>\n",
       "      <td>SBSG</td>\n",
       "      <td>2019-06-07 15:25:00</td>\n",
       "      <td>2019-06-07 15:05:00</td>\n",
       "      <td>REALIZADO</td>\n",
       "      <td>Friday</td>\n",
       "    </tr>\n",
       "    <tr>\n",
       "      <th>1592598</th>\n",
       "      <td>AZU</td>\n",
       "      <td>2500</td>\n",
       "      <td>SBKP</td>\n",
       "      <td>SBPL</td>\n",
       "      <td>2019-06-08 02:35:00</td>\n",
       "      <td>2019-06-08 02:18:00</td>\n",
       "      <td>REALIZADO</td>\n",
       "      <td>Saturday</td>\n",
       "    </tr>\n",
       "    <tr>\n",
       "      <th>1592599</th>\n",
       "      <td>AZU</td>\n",
       "      <td>2499</td>\n",
       "      <td>SBJU</td>\n",
       "      <td>SBKP</td>\n",
       "      <td>2019-06-07 05:25:00</td>\n",
       "      <td>2019-06-07 05:09:00</td>\n",
       "      <td>REALIZADO</td>\n",
       "      <td>Friday</td>\n",
       "    </tr>\n",
       "    <tr>\n",
       "      <th>1592600</th>\n",
       "      <td>AZU</td>\n",
       "      <td>2498</td>\n",
       "      <td>SBKP</td>\n",
       "      <td>SBJU</td>\n",
       "      <td>2019-06-08 01:30:00</td>\n",
       "      <td>2019-06-08 01:26:00</td>\n",
       "      <td>REALIZADO</td>\n",
       "      <td>Saturday</td>\n",
       "    </tr>\n",
       "  </tbody>\n",
       "</table>\n",
       "<p>1242950 rows × 8 columns</p>\n",
       "</div>"
      ],
      "text/plain": [
       "        company flight origin destination       scheduled_arr  \\\n",
       "0           AZU   2497   SBMO        SBRF 2019-06-07 21:50:00   \n",
       "1           AZU   2493   SBMK        SBCF 2019-06-07 20:30:00   \n",
       "2           AZU   2489   SBRF        SBGR 2019-06-07 23:35:00   \n",
       "3           AZU   2488   SBGR        SBRF 2019-06-07 08:20:00   \n",
       "4           AZU   2487   SBFL        SBKP 2019-06-07 17:45:00   \n",
       "...         ...    ...    ...         ...                 ...   \n",
       "1592596     AZU   2503   SBPL        SBKP 2019-06-07 06:35:00   \n",
       "1592597     AZU   2502   SBRF        SBSG 2019-06-07 15:25:00   \n",
       "1592598     AZU   2500   SBKP        SBPL 2019-06-08 02:35:00   \n",
       "1592599     AZU   2499   SBJU        SBKP 2019-06-07 05:25:00   \n",
       "1592600     AZU   2498   SBKP        SBJU 2019-06-08 01:30:00   \n",
       "\n",
       "                   real_arr  situation day_of_week  \n",
       "0       2019-06-07 21:39:00  REALIZADO      Friday  \n",
       "1       2019-06-07 20:30:00  REALIZADO      Friday  \n",
       "2       2019-06-07 23:35:00  REALIZADO      Friday  \n",
       "3       2019-06-07 08:11:00  REALIZADO      Friday  \n",
       "4       2019-06-07 17:45:00  REALIZADO      Friday  \n",
       "...                     ...        ...         ...  \n",
       "1592596 2019-06-07 06:31:00  REALIZADO      Friday  \n",
       "1592597 2019-06-07 15:05:00  REALIZADO      Friday  \n",
       "1592598 2019-06-08 02:18:00  REALIZADO    Saturday  \n",
       "1592599 2019-06-07 05:09:00  REALIZADO      Friday  \n",
       "1592600 2019-06-08 01:26:00  REALIZADO    Saturday  \n",
       "\n",
       "[1242950 rows x 8 columns]"
      ]
     },
     "execution_count": 142,
     "metadata": {},
     "output_type": "execute_result"
    }
   ],
   "source": [
    "domestic_flights"
   ]
  },
  {
   "cell_type": "code",
   "execution_count": null,
   "id": "fb3cffce",
   "metadata": {},
   "outputs": [],
   "source": []
  },
  {
   "cell_type": "code",
   "execution_count": 143,
   "id": "ba6fee63",
   "metadata": {},
   "outputs": [],
   "source": [
    "domestic_flights['time_diff'] = domestic_flights['scheduled_arr'] - domestic_flights['real_arr']"
   ]
  },
  {
   "cell_type": "code",
   "execution_count": 144,
   "id": "e476fd1e",
   "metadata": {},
   "outputs": [],
   "source": [
    "domestic_flights = pd.DataFrame(domestic_flights[['company','flight','origin','destination','scheduled_arr','real_arr','situation','time_diff','day_of_week']])"
   ]
  },
  {
   "cell_type": "code",
   "execution_count": 145,
   "id": "e9df65f8",
   "metadata": {},
   "outputs": [
    {
     "data": {
      "text/html": [
       "<div>\n",
       "<style scoped>\n",
       "    .dataframe tbody tr th:only-of-type {\n",
       "        vertical-align: middle;\n",
       "    }\n",
       "\n",
       "    .dataframe tbody tr th {\n",
       "        vertical-align: top;\n",
       "    }\n",
       "\n",
       "    .dataframe thead th {\n",
       "        text-align: right;\n",
       "    }\n",
       "</style>\n",
       "<table border=\"1\" class=\"dataframe\">\n",
       "  <thead>\n",
       "    <tr style=\"text-align: right;\">\n",
       "      <th></th>\n",
       "      <th>company</th>\n",
       "      <th>flight</th>\n",
       "      <th>origin</th>\n",
       "      <th>destination</th>\n",
       "      <th>scheduled_arr</th>\n",
       "      <th>real_arr</th>\n",
       "      <th>situation</th>\n",
       "      <th>time_diff</th>\n",
       "      <th>day_of_week</th>\n",
       "    </tr>\n",
       "  </thead>\n",
       "  <tbody>\n",
       "    <tr>\n",
       "      <th>0</th>\n",
       "      <td>AZU</td>\n",
       "      <td>2497</td>\n",
       "      <td>SBMO</td>\n",
       "      <td>SBRF</td>\n",
       "      <td>2019-06-07 21:50:00</td>\n",
       "      <td>2019-06-07 21:39:00</td>\n",
       "      <td>REALIZADO</td>\n",
       "      <td>0 days 00:11:00</td>\n",
       "      <td>Friday</td>\n",
       "    </tr>\n",
       "    <tr>\n",
       "      <th>1</th>\n",
       "      <td>AZU</td>\n",
       "      <td>2493</td>\n",
       "      <td>SBMK</td>\n",
       "      <td>SBCF</td>\n",
       "      <td>2019-06-07 20:30:00</td>\n",
       "      <td>2019-06-07 20:30:00</td>\n",
       "      <td>REALIZADO</td>\n",
       "      <td>0 days 00:00:00</td>\n",
       "      <td>Friday</td>\n",
       "    </tr>\n",
       "    <tr>\n",
       "      <th>2</th>\n",
       "      <td>AZU</td>\n",
       "      <td>2489</td>\n",
       "      <td>SBRF</td>\n",
       "      <td>SBGR</td>\n",
       "      <td>2019-06-07 23:35:00</td>\n",
       "      <td>2019-06-07 23:35:00</td>\n",
       "      <td>REALIZADO</td>\n",
       "      <td>0 days 00:00:00</td>\n",
       "      <td>Friday</td>\n",
       "    </tr>\n",
       "    <tr>\n",
       "      <th>3</th>\n",
       "      <td>AZU</td>\n",
       "      <td>2488</td>\n",
       "      <td>SBGR</td>\n",
       "      <td>SBRF</td>\n",
       "      <td>2019-06-07 08:20:00</td>\n",
       "      <td>2019-06-07 08:11:00</td>\n",
       "      <td>REALIZADO</td>\n",
       "      <td>0 days 00:09:00</td>\n",
       "      <td>Friday</td>\n",
       "    </tr>\n",
       "    <tr>\n",
       "      <th>4</th>\n",
       "      <td>AZU</td>\n",
       "      <td>2487</td>\n",
       "      <td>SBFL</td>\n",
       "      <td>SBKP</td>\n",
       "      <td>2019-06-07 17:45:00</td>\n",
       "      <td>2019-06-07 17:45:00</td>\n",
       "      <td>REALIZADO</td>\n",
       "      <td>0 days 00:00:00</td>\n",
       "      <td>Friday</td>\n",
       "    </tr>\n",
       "    <tr>\n",
       "      <th>...</th>\n",
       "      <td>...</td>\n",
       "      <td>...</td>\n",
       "      <td>...</td>\n",
       "      <td>...</td>\n",
       "      <td>...</td>\n",
       "      <td>...</td>\n",
       "      <td>...</td>\n",
       "      <td>...</td>\n",
       "      <td>...</td>\n",
       "    </tr>\n",
       "    <tr>\n",
       "      <th>1592596</th>\n",
       "      <td>AZU</td>\n",
       "      <td>2503</td>\n",
       "      <td>SBPL</td>\n",
       "      <td>SBKP</td>\n",
       "      <td>2019-06-07 06:35:00</td>\n",
       "      <td>2019-06-07 06:31:00</td>\n",
       "      <td>REALIZADO</td>\n",
       "      <td>0 days 00:04:00</td>\n",
       "      <td>Friday</td>\n",
       "    </tr>\n",
       "    <tr>\n",
       "      <th>1592597</th>\n",
       "      <td>AZU</td>\n",
       "      <td>2502</td>\n",
       "      <td>SBRF</td>\n",
       "      <td>SBSG</td>\n",
       "      <td>2019-06-07 15:25:00</td>\n",
       "      <td>2019-06-07 15:05:00</td>\n",
       "      <td>REALIZADO</td>\n",
       "      <td>0 days 00:20:00</td>\n",
       "      <td>Friday</td>\n",
       "    </tr>\n",
       "    <tr>\n",
       "      <th>1592598</th>\n",
       "      <td>AZU</td>\n",
       "      <td>2500</td>\n",
       "      <td>SBKP</td>\n",
       "      <td>SBPL</td>\n",
       "      <td>2019-06-08 02:35:00</td>\n",
       "      <td>2019-06-08 02:18:00</td>\n",
       "      <td>REALIZADO</td>\n",
       "      <td>0 days 00:17:00</td>\n",
       "      <td>Saturday</td>\n",
       "    </tr>\n",
       "    <tr>\n",
       "      <th>1592599</th>\n",
       "      <td>AZU</td>\n",
       "      <td>2499</td>\n",
       "      <td>SBJU</td>\n",
       "      <td>SBKP</td>\n",
       "      <td>2019-06-07 05:25:00</td>\n",
       "      <td>2019-06-07 05:09:00</td>\n",
       "      <td>REALIZADO</td>\n",
       "      <td>0 days 00:16:00</td>\n",
       "      <td>Friday</td>\n",
       "    </tr>\n",
       "    <tr>\n",
       "      <th>1592600</th>\n",
       "      <td>AZU</td>\n",
       "      <td>2498</td>\n",
       "      <td>SBKP</td>\n",
       "      <td>SBJU</td>\n",
       "      <td>2019-06-08 01:30:00</td>\n",
       "      <td>2019-06-08 01:26:00</td>\n",
       "      <td>REALIZADO</td>\n",
       "      <td>0 days 00:04:00</td>\n",
       "      <td>Saturday</td>\n",
       "    </tr>\n",
       "  </tbody>\n",
       "</table>\n",
       "<p>1242950 rows × 9 columns</p>\n",
       "</div>"
      ],
      "text/plain": [
       "        company flight origin destination       scheduled_arr  \\\n",
       "0           AZU   2497   SBMO        SBRF 2019-06-07 21:50:00   \n",
       "1           AZU   2493   SBMK        SBCF 2019-06-07 20:30:00   \n",
       "2           AZU   2489   SBRF        SBGR 2019-06-07 23:35:00   \n",
       "3           AZU   2488   SBGR        SBRF 2019-06-07 08:20:00   \n",
       "4           AZU   2487   SBFL        SBKP 2019-06-07 17:45:00   \n",
       "...         ...    ...    ...         ...                 ...   \n",
       "1592596     AZU   2503   SBPL        SBKP 2019-06-07 06:35:00   \n",
       "1592597     AZU   2502   SBRF        SBSG 2019-06-07 15:25:00   \n",
       "1592598     AZU   2500   SBKP        SBPL 2019-06-08 02:35:00   \n",
       "1592599     AZU   2499   SBJU        SBKP 2019-06-07 05:25:00   \n",
       "1592600     AZU   2498   SBKP        SBJU 2019-06-08 01:30:00   \n",
       "\n",
       "                   real_arr  situation       time_diff day_of_week  \n",
       "0       2019-06-07 21:39:00  REALIZADO 0 days 00:11:00      Friday  \n",
       "1       2019-06-07 20:30:00  REALIZADO 0 days 00:00:00      Friday  \n",
       "2       2019-06-07 23:35:00  REALIZADO 0 days 00:00:00      Friday  \n",
       "3       2019-06-07 08:11:00  REALIZADO 0 days 00:09:00      Friday  \n",
       "4       2019-06-07 17:45:00  REALIZADO 0 days 00:00:00      Friday  \n",
       "...                     ...        ...             ...         ...  \n",
       "1592596 2019-06-07 06:31:00  REALIZADO 0 days 00:04:00      Friday  \n",
       "1592597 2019-06-07 15:05:00  REALIZADO 0 days 00:20:00      Friday  \n",
       "1592598 2019-06-08 02:18:00  REALIZADO 0 days 00:17:00    Saturday  \n",
       "1592599 2019-06-07 05:09:00  REALIZADO 0 days 00:16:00      Friday  \n",
       "1592600 2019-06-08 01:26:00  REALIZADO 0 days 00:04:00    Saturday  \n",
       "\n",
       "[1242950 rows x 9 columns]"
      ]
     },
     "execution_count": 145,
     "metadata": {},
     "output_type": "execute_result"
    }
   ],
   "source": [
    "domestic_flights"
   ]
  },
  {
   "cell_type": "code",
   "execution_count": 152,
   "id": "8f336366",
   "metadata": {},
   "outputs": [
    {
     "data": {
      "text/plain": [
       "<seaborn.axisgrid.FacetGrid at 0x7f4d4c9162b0>"
      ]
     },
     "execution_count": 152,
     "metadata": {},
     "output_type": "execute_result"
    },
    {
     "data": {
      "image/png": "[encoded data removed]",
      "text/plain": [
       "<Figure size 360x360 with 1 Axes>"
      ]
     },
     "metadata": {
      "needs_background": "light"
     },
     "output_type": "display_data"
    }
   ],
   "source": [
    "sns.catplot(x= 'day_of_week', y= 'real_arr', data=domestic_flights)"
   ]
  },
  {
   "cell_type": "code",
   "execution_count": null,
   "id": "a840c7c3",
   "metadata": {},
   "outputs": [],
   "source": []
  }
 ],
 "metadata": {
  "kernelspec": {
   "display_name": "Python 3",
   "language": "python",
   "name": "python3"
  },
  "language_info": {
   "codemirror_mode": {
    "name": "ipython",
    "version": 3
   },
   "file_extension": ".py",
   "mimetype": "text/x-python",
   "name": "python",
   "nbconvert_exporter": "python",
   "pygments_lexer": "ipython3",
   "version": "3.8.8"
  }
 },
 "nbformat": 4,
 "nbformat_minor": 5
}
